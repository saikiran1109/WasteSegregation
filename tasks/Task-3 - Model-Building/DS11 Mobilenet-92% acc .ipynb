{
 "cells": [
  {
   "cell_type": "markdown",
   "metadata": {
    "_cell_guid": "b1076dfc-b9ad-4769-8c92-a6c4dae69d19",
    "_uuid": "8f2839f25d086af736a60e9eeb907d3b93b6e0e5",
    "papermill": {
     "duration": 0.017689,
     "end_time": "2022-08-04T08:10:30.132096",
     "exception": false,
     "start_time": "2022-08-04T08:10:30.114407",
     "status": "completed"
    },
    "tags": []
   },
   "source": [
    "# Garbage Classification using MobilenetV2"
   ]
  },
  {
   "cell_type": "markdown",
   "metadata": {
    "papermill": {
     "duration": 0.016007,
     "end_time": "2022-08-04T08:10:30.165043",
     "exception": false,
     "start_time": "2022-08-04T08:10:30.149036",
     "status": "completed"
    },
    "tags": []
   },
   "source": [
    "# Import Required Libraries"
   ]
  },
  {
   "cell_type": "code",
   "execution_count": 1,
   "metadata": {
    "execution": {
     "iopub.execute_input": "2022-08-04T08:10:30.206094Z",
     "iopub.status.busy": "2022-08-04T08:10:30.205509Z",
     "iopub.status.idle": "2022-08-04T08:10:35.845105Z",
     "shell.execute_reply": "2022-08-04T08:10:35.844000Z",
     "shell.execute_reply.started": "2022-08-04T07:54:41.181473Z"
    },
    "papermill": {
     "duration": 5.663757,
     "end_time": "2022-08-04T08:10:35.845255",
     "exception": false,
     "start_time": "2022-08-04T08:10:30.181498",
     "status": "completed"
    },
    "tags": []
   },
   "outputs": [
    {
     "name": "stdout",
     "output_type": "stream",
     "text": [
      "setup successful!\n"
     ]
    }
   ],
   "source": [
    "import numpy as np\n",
    "import pandas as pd \n",
    "import random\n",
    "import os\n",
    "import matplotlib.pyplot as plt\n",
    "import seaborn as sns\n",
    "import zipfile\n",
    "import sys\n",
    "import time\n",
    "import tensorflow.keras as keras\n",
    "import tensorflow as tf\n",
    "import re\n",
    "\n",
    "from PIL import Image\n",
    "from keras.layers import Input, Conv2D, Dense, Flatten, MaxPooling2D, Input, GlobalAveragePooling2D\n",
    "from keras.layers.experimental.preprocessing import Normalization\n",
    "from keras.models import Model, Sequential\n",
    "from keras.preprocessing import image\n",
    "from keras.utils import to_categorical\n",
    "from keras.layers import Lambda\n",
    "from keras.callbacks import EarlyStopping\n",
    "from sklearn.model_selection import train_test_split\n",
    "from sklearn.metrics import classification_report\n",
    "\n",
    "print('setup successful!')"
   ]
  },
  {
   "cell_type": "markdown",
   "metadata": {
    "papermill": {
     "duration": 0.017232,
     "end_time": "2022-08-04T08:10:35.879781",
     "exception": false,
     "start_time": "2022-08-04T08:10:35.862549",
     "status": "completed"
    },
    "tags": []
   },
   "source": [
    "# Define Constants"
   ]
  },
  {
   "cell_type": "code",
   "execution_count": 2,
   "metadata": {
    "execution": {
     "iopub.execute_input": "2022-08-04T08:10:35.918716Z",
     "iopub.status.busy": "2022-08-04T08:10:35.918139Z",
     "iopub.status.idle": "2022-08-04T08:10:35.922398Z",
     "shell.execute_reply": "2022-08-04T08:10:35.921777Z",
     "shell.execute_reply.started": "2022-08-04T07:55:05.510896Z"
    },
    "papermill": {
     "duration": 0.0267,
     "end_time": "2022-08-04T08:10:35.922497",
     "exception": false,
     "start_time": "2022-08-04T08:10:35.895797",
     "status": "completed"
    },
    "tags": []
   },
   "outputs": [
    {
     "name": "stdout",
     "output_type": "stream",
     "text": [
      "defining constants successful!\n"
     ]
    }
   ],
   "source": [
    "# Increasing the image size didn't result in increasing the training accuracy\n",
    "IMAGE_WIDTH = 224    \n",
    "IMAGE_HEIGHT = 224\n",
    "IMAGE_SIZE=(IMAGE_WIDTH, IMAGE_HEIGHT)\n",
    "IMAGE_CHANNELS = 3\n",
    "\n",
    "\n",
    "# Path where our data is located\n",
    "base_path = \"../input/garbage-classification/garbage_classification/\"\n",
    "\n",
    "# Dictionary to save our 12 classes\n",
    "categories = {0: 'paper', 1: 'cardboard', 2: 'plastic', 3: 'metal', 4: 'trash', 5: 'battery',\n",
    "              6: 'shoes', 7: 'clothes', 8: 'green-glass', 9: 'brown-glass', 10: 'white-glass',\n",
    "              11: 'biological'}\n",
    "\n",
    "print('defining constants successful!')"
   ]
  },
  {
   "cell_type": "markdown",
   "metadata": {
    "papermill": {
     "duration": 0.016441,
     "end_time": "2022-08-04T08:10:35.956073",
     "exception": false,
     "start_time": "2022-08-04T08:10:35.939632",
     "status": "completed"
    },
    "tags": []
   },
   "source": [
    "# Create DataFrame"
   ]
  },
  {
   "cell_type": "markdown",
   "metadata": {
    "papermill": {
     "duration": 0.016823,
     "end_time": "2022-08-04T08:10:35.990097",
     "exception": false,
     "start_time": "2022-08-04T08:10:35.973274",
     "status": "completed"
    },
    "tags": []
   },
   "source": [
    "We want to create a data frame that has in one column the filenames of all our images and in the other column the corresponding category. \n",
    "We Open the directories in the dataset one by one, save the filenames in the filenames_list and add the corresponding category in the categories_list"
   ]
  },
  {
   "cell_type": "code",
   "execution_count": 3,
   "metadata": {
    "execution": {
     "iopub.execute_input": "2022-08-04T08:10:36.045657Z",
     "iopub.status.busy": "2022-08-04T08:10:36.044866Z",
     "iopub.status.idle": "2022-08-04T08:10:39.449699Z",
     "shell.execute_reply": "2022-08-04T08:10:39.450216Z",
     "shell.execute_reply.started": "2022-08-04T07:55:08.521417Z"
    },
    "papermill": {
     "duration": 3.443305,
     "end_time": "2022-08-04T08:10:39.450362",
     "exception": false,
     "start_time": "2022-08-04T08:10:36.007057",
     "status": "completed"
    },
    "tags": []
   },
   "outputs": [
    {
     "name": "stdout",
     "output_type": "stream",
     "text": [
      "number of elements =  15515\n"
     ]
    }
   ],
   "source": [
    "# Add class name prefix to filename. So for example \"/paper104.jpg\" become \"paper/paper104.jpg\"\n",
    "def add_class_name_prefix(df, col_name):\n",
    "    df[col_name] = df[col_name].apply(lambda x: x[:re.search(\"\\d\",x).start()] + '/' + x)\n",
    "    return df\n",
    "\n",
    "# list conatining all the filenames in the dataset\n",
    "filenames_list = []\n",
    "# list to store the corresponding category, note that each folder of the dataset has one class of data\n",
    "categories_list = []\n",
    "\n",
    "for category in categories:\n",
    "    filenames = os.listdir(base_path + categories[category])\n",
    "    \n",
    "    filenames_list = filenames_list  +filenames\n",
    "    categories_list = categories_list + [category] * len(filenames)\n",
    "    \n",
    "df = pd.DataFrame({\n",
    "    'filename': filenames_list,\n",
    "    'category': categories_list\n",
    "})\n",
    "\n",
    "df = add_class_name_prefix(df, 'filename')\n",
    "\n",
    "# Shuffle the dataframe\n",
    "df = df.sample(frac=1).reset_index(drop=True)\n",
    "\n",
    "print('number of elements = ' , len(df))"
   ]
  },
  {
   "cell_type": "code",
   "execution_count": 4,
   "metadata": {
    "execution": {
     "iopub.execute_input": "2022-08-04T08:10:39.494930Z",
     "iopub.status.busy": "2022-08-04T08:10:39.494140Z",
     "iopub.status.idle": "2022-08-04T08:10:39.500518Z",
     "shell.execute_reply": "2022-08-04T08:10:39.500944Z",
     "shell.execute_reply.started": "2022-08-04T07:55:10.703164Z"
    },
    "papermill": {
     "duration": 0.033464,
     "end_time": "2022-08-04T08:10:39.501054",
     "exception": false,
     "start_time": "2022-08-04T08:10:39.467590",
     "status": "completed"
    },
    "tags": []
   },
   "outputs": [
    {
     "data": {
      "text/html": [
       "<div>\n",
       "<style scoped>\n",
       "    .dataframe tbody tr th:only-of-type {\n",
       "        vertical-align: middle;\n",
       "    }\n",
       "\n",
       "    .dataframe tbody tr th {\n",
       "        vertical-align: top;\n",
       "    }\n",
       "\n",
       "    .dataframe thead th {\n",
       "        text-align: right;\n",
       "    }\n",
       "</style>\n",
       "<table border=\"1\" class=\"dataframe\">\n",
       "  <thead>\n",
       "    <tr style=\"text-align: right;\">\n",
       "      <th></th>\n",
       "      <th>filename</th>\n",
       "      <th>category</th>\n",
       "    </tr>\n",
       "  </thead>\n",
       "  <tbody>\n",
       "    <tr>\n",
       "      <th>0</th>\n",
       "      <td>cardboard/cardboard58.jpg</td>\n",
       "      <td>1</td>\n",
       "    </tr>\n",
       "    <tr>\n",
       "      <th>1</th>\n",
       "      <td>clothes/clothes2003.jpg</td>\n",
       "      <td>7</td>\n",
       "    </tr>\n",
       "    <tr>\n",
       "      <th>2</th>\n",
       "      <td>clothes/clothes1882.jpg</td>\n",
       "      <td>7</td>\n",
       "    </tr>\n",
       "    <tr>\n",
       "      <th>3</th>\n",
       "      <td>clothes/clothes392.jpg</td>\n",
       "      <td>7</td>\n",
       "    </tr>\n",
       "    <tr>\n",
       "      <th>4</th>\n",
       "      <td>plastic/plastic715.jpg</td>\n",
       "      <td>2</td>\n",
       "    </tr>\n",
       "  </tbody>\n",
       "</table>\n",
       "</div>"
      ],
      "text/plain": [
       "                    filename  category\n",
       "0  cardboard/cardboard58.jpg         1\n",
       "1    clothes/clothes2003.jpg         7\n",
       "2    clothes/clothes1882.jpg         7\n",
       "3     clothes/clothes392.jpg         7\n",
       "4     plastic/plastic715.jpg         2"
      ]
     },
     "execution_count": 4,
     "metadata": {},
     "output_type": "execute_result"
    }
   ],
   "source": [
    "df.head()"
   ]
  },
  {
   "cell_type": "code",
   "execution_count": 5,
   "metadata": {
    "execution": {
     "iopub.execute_input": "2022-08-04T08:10:39.540261Z",
     "iopub.status.busy": "2022-08-04T08:10:39.539699Z",
     "iopub.status.idle": "2022-08-04T08:10:39.755251Z",
     "shell.execute_reply": "2022-08-04T08:10:39.755684Z",
     "shell.execute_reply.started": "2022-08-04T07:55:11.081017Z"
    },
    "papermill": {
     "duration": 0.237691,
     "end_time": "2022-08-04T08:10:39.755844",
     "exception": false,
     "start_time": "2022-08-04T08:10:39.518153",
     "status": "completed"
    },
    "tags": []
   },
   "outputs": [
    {
     "name": "stdout",
     "output_type": "stream",
     "text": [
      "metal/metal741.jpg\n"
     ]
    },
    {
     "data": {
      "text/plain": [
       "<matplotlib.image.AxesImage at 0x7f5f51560790>"
      ]
     },
     "execution_count": 5,
     "metadata": {},
     "output_type": "execute_result"
    },
    {
     "data": {
      "image/png": "[encoded data removed]",
      "text/plain": [
       "<Figure size 432x288 with 1 Axes>"
      ]
     },
     "metadata": {
      "needs_background": "light"
     },
     "output_type": "display_data"
    }
   ],
   "source": [
    "# see sample image, you can run the same cell again to get a different image\n",
    "random_row = random.randint(0, len(df)-1)\n",
    "sample = df.iloc[random_row]\n",
    "randomimage = image.load_img(base_path +sample['filename'])\n",
    "print(sample['filename'])\n",
    "plt.imshow(randomimage)"
   ]
  },
  {
   "cell_type": "markdown",
   "metadata": {
    "papermill": {
     "duration": 0.018522,
     "end_time": "2022-08-04T08:10:39.793686",
     "exception": false,
     "start_time": "2022-08-04T08:10:39.775164",
     "status": "completed"
    },
    "tags": []
   },
   "source": [
    "# Viusalize the Categories Distribution"
   ]
  },
  {
   "cell_type": "code",
   "execution_count": 6,
   "metadata": {
    "execution": {
     "iopub.execute_input": "2022-08-04T08:10:39.843118Z",
     "iopub.status.busy": "2022-08-04T08:10:39.842489Z",
     "iopub.status.idle": "2022-08-04T08:10:39.991249Z",
     "shell.execute_reply": "2022-08-04T08:10:39.990779Z",
     "shell.execute_reply.started": "2022-08-04T07:55:15.497116Z"
    },
    "papermill": {
     "duration": 0.179113,
     "end_time": "2022-08-04T08:10:39.991360",
     "exception": false,
     "start_time": "2022-08-04T08:10:39.812247",
     "status": "completed"
    },
    "tags": []
   },
   "outputs": [
    {
     "data": {
      "image/png": "[encoded data removed]",
      "text/plain": [
       "<Figure size 432x288 with 1 Axes>"
      ]
     },
     "metadata": {
      "needs_background": "light"
     },
     "output_type": "display_data"
    }
   ],
   "source": [
    "df_visualization = df.copy()\n",
    "# Change the catgegories from numbers to names\n",
    "df_visualization['category'] = df_visualization['category'].apply(lambda x:categories[x] )\n",
    "\n",
    "df_visualization['category'].value_counts().plot.bar(x = 'count', y = 'category' )\n",
    "\n",
    "plt.xlabel(\"Garbage Classes\", labelpad=14)\n",
    "plt.ylabel(\"Images Count\", labelpad=14)\n",
    "plt.title(\"Count of images per class\", y=1.02);"
   ]
  },
  {
   "cell_type": "markdown",
   "metadata": {
    "papermill": {
     "duration": 0.019578,
     "end_time": "2022-08-04T08:10:40.032155",
     "exception": false,
     "start_time": "2022-08-04T08:10:40.012577",
     "status": "completed"
    },
    "tags": []
   },
   "source": [
    "# Create the model"
   ]
  },
  {
   "cell_type": "markdown",
   "metadata": {
    "papermill": {
     "duration": 0.019549,
     "end_time": "2022-08-04T08:10:40.071416",
     "exception": false,
     "start_time": "2022-08-04T08:10:40.051867",
     "status": "completed"
    },
    "tags": []
   },
   "source": [
    "The steps are:\n",
    "1. Create an mobilenetv2 model without the last layer and load the ImageNet pretrained weights\n",
    "2. Add a pre-processing layer\n",
    "3. Add a pooling layer followed by a softmax layer at the end"
   ]
  },
  {
   "cell_type": "code",
   "execution_count": 7,
   "metadata": {
    "execution": {
     "iopub.execute_input": "2022-08-04T08:10:40.118596Z",
     "iopub.status.busy": "2022-08-04T08:10:40.118021Z",
     "iopub.status.idle": "2022-08-04T08:10:44.483466Z",
     "shell.execute_reply": "2022-08-04T08:10:44.482911Z",
     "shell.execute_reply.started": "2022-08-04T07:56:08.868017Z"
    },
    "papermill": {
     "duration": 4.391959,
     "end_time": "2022-08-04T08:10:44.483582",
     "exception": false,
     "start_time": "2022-08-04T08:10:40.091623",
     "status": "completed"
    },
    "tags": []
   },
   "outputs": [
    {
     "name": "stdout",
     "output_type": "stream",
     "text": [
      "Model: \"sequential\"\n",
      "_________________________________________________________________\n",
      "Layer (type)                 Output Shape              Param #   \n",
      "=================================================================\n",
      "lambda (Lambda)              (None, 224, 224, 3)       0         \n",
      "_________________________________________________________________\n",
      "mobilenetv2_1.00_224 (Functi (None, 7, 7, 1280)        2257984   \n",
      "_________________________________________________________________\n",
      "global_average_pooling2d (Gl (None, 1280)              0         \n",
      "_________________________________________________________________\n",
      "dense (Dense)                (None, 12)                15372     \n",
      "=================================================================\n",
      "Total params: 2,273,356\n",
      "Trainable params: 15,372\n",
      "Non-trainable params: 2,257,984\n",
      "_________________________________________________________________\n"
     ]
    }
   ],
   "source": [
    "from keras.models import Sequential\n",
    "from keras.layers import Conv2D, MaxPooling2D, Dropout, Flatten, Dense, Activation, BatchNormalization\n",
    "import keras.applications.mobilenet_v2 as mobilenetv2\n",
    "\n",
    "mobilenetv2_layer = mobilenetv2.MobileNetV2(include_top = False, input_shape = (IMAGE_WIDTH, IMAGE_HEIGHT,IMAGE_CHANNELS),\n",
    "                       weights = '../input/mobilenet-v2-keras-weights/mobilenet_v2_weights_tf_dim_ordering_tf_kernels_1.0_224_no_top.h5')\n",
    "\n",
    "# We don't want to train the imported weights\n",
    "mobilenetv2_layer.trainable = False\n",
    "\n",
    "\n",
    "model = Sequential()\n",
    "model.add(keras.Input(shape=(IMAGE_WIDTH, IMAGE_HEIGHT, IMAGE_CHANNELS)))\n",
    "\n",
    "#create a custom layer to apply the preprocessing\n",
    "def mobilenetv2_preprocessing(img):\n",
    "  return mobilenetv2.preprocess_input(img)\n",
    "\n",
    "model.add(Lambda(mobilenetv2_preprocessing))\n",
    "\n",
    "model.add(mobilenetv2_layer)\n",
    "model.add(tf.keras.layers.GlobalAveragePooling2D())\n",
    "model.add(Dense(len(categories), activation='softmax')) \n",
    "\n",
    "model.compile(loss='categorical_crossentropy', optimizer='adam', metrics=['categorical_accuracy'])\n",
    "\n",
    "model.summary()"
   ]
  },
  {
   "cell_type": "markdown",
   "metadata": {
    "papermill": {
     "duration": 0.019672,
     "end_time": "2022-08-04T08:10:44.524168",
     "exception": false,
     "start_time": "2022-08-04T08:10:44.504496",
     "status": "completed"
    },
    "tags": []
   },
   "source": [
    "We will use the EarlyStopping call back to stop our training if the validation_accuray is not improving for a certain number of epochs."
   ]
  },
  {
   "cell_type": "code",
   "execution_count": 8,
   "metadata": {
    "execution": {
     "iopub.execute_input": "2022-08-04T08:10:44.568711Z",
     "iopub.status.busy": "2022-08-04T08:10:44.568112Z",
     "iopub.status.idle": "2022-08-04T08:10:44.574140Z",
     "shell.execute_reply": "2022-08-04T08:10:44.573140Z",
     "shell.execute_reply.started": "2022-08-04T07:56:16.935039Z"
    },
    "papermill": {
     "duration": 0.030368,
     "end_time": "2022-08-04T08:10:44.574258",
     "exception": false,
     "start_time": "2022-08-04T08:10:44.543890",
     "status": "completed"
    },
    "tags": []
   },
   "outputs": [
    {
     "name": "stdout",
     "output_type": "stream",
     "text": [
      "call back defined!\n"
     ]
    }
   ],
   "source": [
    "early_stop = EarlyStopping(patience = 2, verbose = 1, monitor='val_categorical_accuracy' , mode='max', min_delta=0.001, restore_best_weights = True)\n",
    "\n",
    "callbacks = [early_stop]\n",
    "\n",
    "print('call back defined!')"
   ]
  },
  {
   "cell_type": "markdown",
   "metadata": {
    "papermill": {
     "duration": 0.019713,
     "end_time": "2022-08-04T08:10:44.648087",
     "exception": false,
     "start_time": "2022-08-04T08:10:44.628374",
     "status": "completed"
    },
    "tags": []
   },
   "source": [
    "# Split the Data Set"
   ]
  },
  {
   "cell_type": "markdown",
   "metadata": {
    "papermill": {
     "duration": 0.020535,
     "end_time": "2022-08-04T08:10:44.688694",
     "exception": false,
     "start_time": "2022-08-04T08:10:44.668159",
     "status": "completed"
    },
    "tags": []
   },
   "source": [
    "We split the training set into three separate sets:\n",
    "\n",
    "1. **The training set:** used to train our model.\n",
    "1. **The validation set**: used to double check that our model is not overfitting the training set, i.e. it can also generalise to other data other than the train data\n",
    "1. **The Test set:** Used to estimate the accuracy of the model on new data other than the ones the model used for training\n",
    "For a competition  or for some other cases, you can split the data only to training and validation sets in order to achieve the highest  possible accuracy, without the need to properly estimate how accurate the model really is.\n",
    "\n",
    "We split the data set as follows: 80% train set, 10% cross_validation set, and 10% test set"
   ]
  },
  {
   "cell_type": "code",
   "execution_count": 9,
   "metadata": {
    "execution": {
     "iopub.execute_input": "2022-08-04T08:10:44.737217Z",
     "iopub.status.busy": "2022-08-04T08:10:44.736370Z",
     "iopub.status.idle": "2022-08-04T08:10:44.750344Z",
     "shell.execute_reply": "2022-08-04T08:10:44.749708Z",
     "shell.execute_reply.started": "2022-08-04T07:56:20.195243Z"
    },
    "papermill": {
     "duration": 0.041463,
     "end_time": "2022-08-04T08:10:44.750478",
     "exception": false,
     "start_time": "2022-08-04T08:10:44.709015",
     "status": "completed"
    },
    "tags": []
   },
   "outputs": [
    {
     "name": "stdout",
     "output_type": "stream",
     "text": [
      "train size =  1551 validate size =  1551 test size =  1552\n"
     ]
    }
   ],
   "source": [
    "#Change the categories from numbers to names\n",
    "df[\"category\"] = df[\"category\"].replace(categories) \n",
    "\n",
    "# We first split the data into two sets and then split the validate_df to two sets\n",
    "train_df, validate_df = train_test_split(df, test_size=0.2, random_state=42)\n",
    "validate_df, test_df = train_test_split(validate_df, test_size=0.5, random_state=42)\n",
    "\n",
    "train_df = train_df.reset_index(drop=True)\n",
    "validate_df = validate_df.reset_index(drop=True)\n",
    "test_df = test_df.reset_index(drop=True)\n",
    "\n",
    "total_train = train_df.shape[0]\n",
    "total_validate = validate_df.shape[0]\n",
    "\n",
    "print('train size = ', total_validate , 'validate size = ', total_validate, 'test size = ', test_df.shape[0])"
   ]
  },
  {
   "cell_type": "markdown",
   "metadata": {
    "papermill": {
     "duration": 0.020026,
     "end_time": "2022-08-04T08:10:44.791001",
     "exception": false,
     "start_time": "2022-08-04T08:10:44.770975",
     "status": "completed"
    },
    "tags": []
   },
   "source": [
    "# Train the model"
   ]
  },
  {
   "cell_type": "markdown",
   "metadata": {
    "papermill": {
     "duration": 0.020342,
     "end_time": "2022-08-04T08:10:44.831651",
     "exception": false,
     "start_time": "2022-08-04T08:10:44.811309",
     "status": "completed"
    },
    "tags": []
   },
   "source": [
    "We will first create the training data generator, that will get the images from the input data directory to train on them. We will also create a generator for the validation set.\n",
    "\n",
    "Applying Data Augmentation on the training set was taking too long to be executed and the initial results didn't show much improvement than the results without augmentation, so I commented the augmentation to make the training faster. However fell free to uncomment the Data Augmentation lines in the following cell and play a bit with it."
   ]
  },
  {
   "cell_type": "code",
   "execution_count": 10,
   "metadata": {
    "execution": {
     "iopub.execute_input": "2022-08-04T08:10:44.905110Z",
     "iopub.status.busy": "2022-08-04T08:10:44.901598Z",
     "iopub.status.idle": "2022-08-04T08:10:59.101428Z",
     "shell.execute_reply": "2022-08-04T08:10:59.100879Z",
     "shell.execute_reply.started": "2022-08-04T07:56:22.743893Z"
    },
    "papermill": {
     "duration": 14.249112,
     "end_time": "2022-08-04T08:10:59.101530",
     "exception": false,
     "start_time": "2022-08-04T08:10:44.852418",
     "status": "completed"
    },
    "tags": []
   },
   "outputs": [
    {
     "name": "stdout",
     "output_type": "stream",
     "text": [
      "Found 12412 validated image filenames belonging to 12 classes.\n"
     ]
    }
   ],
   "source": [
    "batch_size=64\n",
    "\n",
    "train_datagen = image.ImageDataGenerator(\n",
    "    \n",
    "    ###  Augmentation Start  ###\n",
    "    \n",
    "    #rotation_range=30,\n",
    "    #shear_range=0.1,\n",
    "    #zoom_range=0.3,\n",
    "    #horizontal_flip=True,\n",
    "    #vertical_flip = True,\n",
    "    #width_shift_range=0.2,\n",
    "    #height_shift_range=0.2\n",
    "    \n",
    "    ##  Augmentation End  ###\n",
    ")\n",
    "\n",
    "train_generator = train_datagen.flow_from_dataframe(\n",
    "    train_df, \n",
    "    base_path, \n",
    "    x_col='filename',\n",
    "    y_col='category',\n",
    "    target_size=IMAGE_SIZE,\n",
    "    class_mode='categorical',\n",
    "    batch_size=batch_size\n",
    ")"
   ]
  },
  {
   "cell_type": "code",
   "execution_count": 11,
   "metadata": {
    "execution": {
     "iopub.execute_input": "2022-08-04T08:10:59.153755Z",
     "iopub.status.busy": "2022-08-04T08:10:59.153247Z",
     "iopub.status.idle": "2022-08-04T08:11:00.988608Z",
     "shell.execute_reply": "2022-08-04T08:11:00.987546Z",
     "shell.execute_reply.started": "2022-08-04T07:56:36.823940Z"
    },
    "papermill": {
     "duration": 1.865708,
     "end_time": "2022-08-04T08:11:00.988732",
     "exception": false,
     "start_time": "2022-08-04T08:10:59.123024",
     "status": "completed"
    },
    "tags": []
   },
   "outputs": [
    {
     "name": "stdout",
     "output_type": "stream",
     "text": [
      "Found 1551 validated image filenames belonging to 12 classes.\n"
     ]
    }
   ],
   "source": [
    "validation_datagen = image.ImageDataGenerator()\n",
    "\n",
    "validation_generator = validation_datagen.flow_from_dataframe(\n",
    "    validate_df, \n",
    "    base_path, \n",
    "    x_col='filename',\n",
    "    y_col='category',\n",
    "    target_size=IMAGE_SIZE,\n",
    "    class_mode='categorical',\n",
    "    batch_size=batch_size\n",
    ")"
   ]
  },
  {
   "cell_type": "code",
   "execution_count": 12,
   "metadata": {
    "execution": {
     "iopub.execute_input": "2022-08-04T08:11:01.037336Z",
     "iopub.status.busy": "2022-08-04T08:11:01.036791Z",
     "iopub.status.idle": "2022-08-04T08:20:50.498215Z",
     "shell.execute_reply": "2022-08-04T08:20:50.497688Z",
     "shell.execute_reply.started": "2022-08-04T07:56:41.826884Z"
    },
    "papermill": {
     "duration": 589.487794,
     "end_time": "2022-08-04T08:20:50.498338",
     "exception": false,
     "start_time": "2022-08-04T08:11:01.010544",
     "status": "completed"
    },
    "tags": []
   },
   "outputs": [
    {
     "name": "stdout",
     "output_type": "stream",
     "text": [
      "Epoch 1/20\n",
      "193/193 [==============================] - 137s 709ms/step - loss: 0.5752 - categorical_accuracy: 0.8358 - val_loss: 0.2799 - val_categorical_accuracy: 0.9193\n",
      "Epoch 2/20\n",
      "193/193 [==============================] - 55s 286ms/step - loss: 0.2149 - categorical_accuracy: 0.9377 - val_loss: 0.2227 - val_categorical_accuracy: 0.9323\n",
      "Epoch 3/20\n",
      "193/193 [==============================] - 55s 286ms/step - loss: 0.1608 - categorical_accuracy: 0.9542 - val_loss: 0.1957 - val_categorical_accuracy: 0.9421\n",
      "Epoch 4/20\n",
      "193/193 [==============================] - 55s 286ms/step - loss: 0.1293 - categorical_accuracy: 0.9652 - val_loss: 0.1994 - val_categorical_accuracy: 0.9395\n",
      "Epoch 5/20\n",
      "193/193 [==============================] - 55s 287ms/step - loss: 0.1081 - categorical_accuracy: 0.9721 - val_loss: 0.1897 - val_categorical_accuracy: 0.9460\n",
      "Epoch 6/20\n",
      "193/193 [==============================] - 56s 290ms/step - loss: 0.0915 - categorical_accuracy: 0.9766 - val_loss: 0.1864 - val_categorical_accuracy: 0.9447\n",
      "Epoch 7/20\n",
      "193/193 [==============================] - 55s 286ms/step - loss: 0.0784 - categorical_accuracy: 0.9813 - val_loss: 0.1875 - val_categorical_accuracy: 0.9473\n",
      "Epoch 8/20\n",
      "193/193 [==============================] - 56s 289ms/step - loss: 0.0686 - categorical_accuracy: 0.9852 - val_loss: 0.1907 - val_categorical_accuracy: 0.9434\n",
      "Epoch 9/20\n",
      "193/193 [==============================] - ETA: 0s - loss: 0.0604 - categorical_accuracy: 0.9864Restoring model weights from the end of the best epoch.\n",
      "193/193 [==============================] - 56s 288ms/step - loss: 0.0604 - categorical_accuracy: 0.9864 - val_loss: 0.1880 - val_categorical_accuracy: 0.9453\n",
      "Epoch 00009: early stopping\n"
     ]
    }
   ],
   "source": [
    "EPOCHS = 20\n",
    "history = model.fit_generator(\n",
    "    train_generator, \n",
    "    epochs=EPOCHS,\n",
    "    validation_data=validation_generator,\n",
    "    validation_steps=total_validate//batch_size,\n",
    "    steps_per_epoch=total_train//batch_size,\n",
    "    callbacks=callbacks\n",
    ")"
   ]
  },
  {
   "cell_type": "code",
   "execution_count": 13,
   "metadata": {
    "execution": {
     "iopub.execute_input": "2022-08-04T08:20:51.398136Z",
     "iopub.status.busy": "2022-08-04T08:20:51.397472Z",
     "iopub.status.idle": "2022-08-04T08:20:51.565602Z",
     "shell.execute_reply": "2022-08-04T08:20:51.564743Z",
     "shell.execute_reply.started": "2022-08-04T08:04:14.504283Z"
    },
    "papermill": {
     "duration": 0.626589,
     "end_time": "2022-08-04T08:20:51.565715",
     "exception": false,
     "start_time": "2022-08-04T08:20:50.939126",
     "status": "completed"
    },
    "tags": []
   },
   "outputs": [],
   "source": [
    "model.save(\"model18.h5\")"
   ]
  },
  {
   "cell_type": "markdown",
   "metadata": {
    "papermill": {
     "duration": 0.721311,
     "end_time": "2022-08-04T08:20:52.730489",
     "exception": false,
     "start_time": "2022-08-04T08:20:52.009178",
     "status": "completed"
    },
    "tags": []
   },
   "source": [
    "# Visualize the training process\n"
   ]
  },
  {
   "cell_type": "code",
   "execution_count": 14,
   "metadata": {
    "execution": {
     "iopub.execute_input": "2022-08-04T08:20:53.628277Z",
     "iopub.status.busy": "2022-08-04T08:20:53.627347Z",
     "iopub.status.idle": "2022-08-04T08:20:53.910540Z",
     "shell.execute_reply": "2022-08-04T08:20:53.910006Z",
     "shell.execute_reply.started": "2022-08-04T08:04:16.827826Z"
    },
    "papermill": {
     "duration": 0.734785,
     "end_time": "2022-08-04T08:20:53.910690",
     "exception": false,
     "start_time": "2022-08-04T08:20:53.175905",
     "status": "completed"
    },
    "tags": []
   },
   "outputs": [
    {
     "data": {
      "image/png": "[encoded data removed]",
      "text/plain": [
       "<Figure size 432x288 with 2 Axes>"
      ]
     },
     "metadata": {
      "needs_background": "light"
     },
     "output_type": "display_data"
    }
   ],
   "source": [
    "fig, (ax1, ax2) = plt.subplots(2, 1)\n",
    "ax1.plot(history.history['loss'], color='b', label=\"Training loss\")\n",
    "ax1.plot(history.history['val_loss'], color='r', label=\"Validation loss\")\n",
    "ax1.set_yticks(np.arange(0, 0.7, 0.1))\n",
    "ax1.legend()\n",
    "\n",
    "ax2.plot(history.history['categorical_accuracy'], color='b', label=\"Training accuracy\")\n",
    "ax2.plot(history.history['val_categorical_accuracy'], color='r',label=\"Validation accuracy\")\n",
    "ax2.legend()\n",
    "\n",
    "legend = plt.legend(loc='best')\n",
    "plt.tight_layout()\n",
    "plt.show()"
   ]
  },
  {
   "cell_type": "markdown",
   "metadata": {
    "papermill": {
     "duration": 0.473253,
     "end_time": "2022-08-04T08:20:54.845931",
     "exception": false,
     "start_time": "2022-08-04T08:20:54.372678",
     "status": "completed"
    },
    "tags": []
   },
   "source": [
    "# Evaluate the test"
   ]
  },
  {
   "cell_type": "markdown",
   "metadata": {
    "papermill": {
     "duration": 0.441506,
     "end_time": "2022-08-04T08:20:55.736646",
     "exception": false,
     "start_time": "2022-08-04T08:20:55.295140",
     "status": "completed"
    },
    "tags": []
   },
   "source": [
    "To evaluate the performance of our model we will create a test generator to load the images from the input data directory and evaluate the results."
   ]
  },
  {
   "cell_type": "code",
   "execution_count": 15,
   "metadata": {
    "execution": {
     "iopub.execute_input": "2022-08-04T08:20:56.656472Z",
     "iopub.status.busy": "2022-08-04T08:20:56.655918Z",
     "iopub.status.idle": "2022-08-04T08:20:58.369963Z",
     "shell.execute_reply": "2022-08-04T08:20:58.369229Z",
     "shell.execute_reply.started": "2022-08-04T08:04:20.576413Z"
    },
    "papermill": {
     "duration": 2.17151,
     "end_time": "2022-08-04T08:20:58.370072",
     "exception": false,
     "start_time": "2022-08-04T08:20:56.198562",
     "status": "completed"
    },
    "tags": []
   },
   "outputs": [
    {
     "name": "stdout",
     "output_type": "stream",
     "text": [
      "Found 1552 validated image filenames belonging to 12 classes.\n"
     ]
    }
   ],
   "source": [
    "test_datagen = image.ImageDataGenerator()\n",
    "\n",
    "test_generator = test_datagen.flow_from_dataframe(\n",
    "    dataframe= test_df,\n",
    "    directory=base_path,\n",
    "    x_col='filename',\n",
    "    y_col='category',\n",
    "    target_size=IMAGE_SIZE,\n",
    "    color_mode=\"rgb\",\n",
    "    class_mode=\"categorical\",\n",
    "    batch_size=1,\n",
    "    shuffle=False \n",
    ")"
   ]
  },
  {
   "cell_type": "code",
   "execution_count": 16,
   "metadata": {
    "execution": {
     "iopub.execute_input": "2022-08-04T08:20:59.265864Z",
     "iopub.status.busy": "2022-08-04T08:20:59.264978Z",
     "iopub.status.idle": "2022-08-04T08:21:13.952625Z",
     "shell.execute_reply": "2022-08-04T08:21:13.951815Z",
     "shell.execute_reply.started": "2022-08-04T08:04:39.081443Z"
    },
    "papermill": {
     "duration": 15.138169,
     "end_time": "2022-08-04T08:21:13.952736",
     "exception": false,
     "start_time": "2022-08-04T08:20:58.814567",
     "status": "completed"
    },
    "tags": []
   },
   "outputs": [
    {
     "name": "stdout",
     "output_type": "stream",
     "text": [
      "Accuracy on test set =  93.88 % \n"
     ]
    }
   ],
   "source": [
    "filenames = test_generator.filenames\n",
    "nb_samples = len(filenames)\n",
    "\n",
    "_, accuracy = model.evaluate_generator(test_generator, nb_samples)\n",
    "\n",
    "print('Accuracy on test set = ',  round((accuracy * 100),2 ), '% ') "
   ]
  },
  {
   "cell_type": "code",
   "execution_count": 17,
   "metadata": {
    "execution": {
     "iopub.execute_input": "2022-08-04T08:21:15.154153Z",
     "iopub.status.busy": "2022-08-04T08:21:15.151870Z",
     "iopub.status.idle": "2022-08-04T08:21:15.156178Z",
     "shell.execute_reply": "2022-08-04T08:21:15.155659Z",
     "shell.execute_reply.started": "2022-08-04T08:04:58.440671Z"
    },
    "papermill": {
     "duration": 0.452741,
     "end_time": "2022-08-04T08:21:15.156282",
     "exception": false,
     "start_time": "2022-08-04T08:21:14.703541",
     "status": "completed"
    },
    "tags": []
   },
   "outputs": [
    {
     "name": "stdout",
     "output_type": "stream",
     "text": [
      "{0: 'battery', 1: 'biological', 2: 'brown-glass', 3: 'cardboard', 4: 'clothes', 5: 'green-glass', 6: 'metal', 7: 'paper', 8: 'plastic', 9: 'shoes', 10: 'trash', 11: 'white-glass'}\n"
     ]
    }
   ],
   "source": [
    "# We defined at the beginning of this notebook a dictionary that maps the categories number to names, but the train generator\n",
    "# generated it's own dictionary and it has assigned different numbers to our categories and the predictions made by the model \n",
    "# will be made using the genrator's dictionary.\n",
    "\n",
    "gen_label_map = test_generator.class_indices\n",
    "gen_label_map = dict((v,k) for k,v in gen_label_map.items())\n",
    "print(gen_label_map)"
   ]
  },
  {
   "cell_type": "code",
   "execution_count": 18,
   "metadata": {
    "execution": {
     "iopub.execute_input": "2022-08-04T08:21:16.057342Z",
     "iopub.status.busy": "2022-08-04T08:21:16.056434Z",
     "iopub.status.idle": "2022-08-04T08:21:24.134531Z",
     "shell.execute_reply": "2022-08-04T08:21:24.133909Z",
     "shell.execute_reply.started": "2022-08-04T08:05:00.013108Z"
    },
    "papermill": {
     "duration": 8.528685,
     "end_time": "2022-08-04T08:21:24.134710",
     "exception": false,
     "start_time": "2022-08-04T08:21:15.606025",
     "status": "completed"
    },
    "tags": []
   },
   "outputs": [
    {
     "name": "stdout",
     "output_type": "stream",
     "text": [
      "              precision    recall  f1-score   support\n",
      "\n",
      "     battery       0.97      0.99      0.98       102\n",
      "  biological       0.97      0.99      0.98       103\n",
      " brown-glass       0.87      0.94      0.90        63\n",
      "   cardboard       0.90      0.93      0.92        91\n",
      "     clothes       0.99      0.99      0.99       525\n",
      " green-glass       0.92      0.90      0.91        61\n",
      "       metal       0.88      0.86      0.87        66\n",
      "       paper       0.94      0.85      0.90       116\n",
      "     plastic       0.81      0.81      0.81        79\n",
      "       shoes       0.95      0.97      0.96       197\n",
      "       trash       0.91      0.95      0.93        64\n",
      " white-glass       0.81      0.75      0.78        85\n",
      "\n",
      "    accuracy                           0.94      1552\n",
      "   macro avg       0.91      0.91      0.91      1552\n",
      "weighted avg       0.94      0.94      0.94      1552\n",
      "\n"
     ]
    }
   ],
   "source": [
    "# get the model's predictions for the test set\n",
    "preds = model.predict_generator(test_generator, nb_samples)\n",
    "\n",
    "# Get the category with the highest predicted probability, the prediction is only the category's number and not name\n",
    "preds = preds.argmax(1)\n",
    "\n",
    "# Convert the predicted category's number to name \n",
    "preds = [gen_label_map[item] for item in preds]\n",
    "\n",
    "# Convert the pandas dataframe to a numpy matrix\n",
    "labels = test_df['category'].to_numpy()\n",
    "\n",
    "print(classification_report(labels, preds))"
   ]
  }
 ],
 "metadata": {
  "kernelspec": {
   "display_name": "Python 3",
   "language": "python",
   "name": "python3"
  },
  "language_info": {
   "codemirror_mode": {
    "name": "ipython",
    "version": 3
   },
   "file_extension": ".py",
   "mimetype": "text/x-python",
   "name": "python",
   "nbconvert_exporter": "python",
   "pygments_lexer": "ipython3",
   "version": "3.7.6"
  },
  "papermill": {
   "duration": 659.772743,
   "end_time": "2022-08-04T08:21:26.181431",
   "environment_variables": {},
   "exception": null,
   "input_path": "__notebook__.ipynb",
   "output_path": "__notebook__.ipynb",
   "parameters": {},
   "start_time": "2022-08-04T08:10:26.408688",
   "version": "2.1.0"
  }
 },
 "nbformat": 4,
 "nbformat_minor": 4
}
