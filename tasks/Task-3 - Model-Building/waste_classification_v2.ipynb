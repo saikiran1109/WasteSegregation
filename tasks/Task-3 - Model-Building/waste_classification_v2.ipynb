{
  "nbformat": 4,
  "nbformat_minor": 0,
  "metadata": {
    "colab": {
      "name": "waste_classification_v2.ipynb",
      "provenance": []
    },
    "kernelspec": {
      "name": "python3",
      "display_name": "Python 3"
    },
    "language_info": {
      "name": "python"
    },
    "accelerator": "GPU",
    "gpuClass": "standard"
  },
  "cells": [
    {
      "cell_type": "code",
      "execution_count": 1,
      "metadata": {
        "colab": {
          "base_uri": "https://localhost:8080/"
        },
        "id": "HFNZvdSvvra_",
        "outputId": "1714f763-5f7c-41e8-ea83-323d2dfc3b43"
      },
      "outputs": [
        {
          "output_type": "stream",
          "name": "stdout",
          "text": [
            "Colab only includes TensorFlow 2.x; %tensorflow_version has no effect.\n",
            "Found GPU at: /device:GPU:0\n",
            "CPU times: user 3 µs, sys: 0 ns, total: 3 µs\n",
            "Wall time: 7.39 µs\n"
          ]
        }
      ],
      "source": [
        "%tensorflow_version 2.x\n",
        "import tensorflow as tf\n",
        "device_name = tf.test.gpu_device_name()\n",
        "if device_name != '/device:GPU:0':\n",
        "  raise SystemError('GPU device not found')\n",
        "print('Found GPU at: {}'.format(device_name))\n",
        "%time"
      ]
    },
    {
      "cell_type": "code",
      "source": [
        "!pip install opendatasets"
      ],
      "metadata": {
        "colab": {
          "base_uri": "https://localhost:8080/"
        },
        "id": "cTnoMtmxv_16",
        "outputId": "62543204-a905-494f-a413-9f4ea865a3ba"
      },
      "execution_count": 2,
      "outputs": [
        {
          "output_type": "stream",
          "name": "stdout",
          "text": [
            "Looking in indexes: https://pypi.org/simple, https://us-python.pkg.dev/colab-wheels/public/simple/\n",
            "Collecting opendatasets\n",
            "  Downloading opendatasets-0.1.22-py3-none-any.whl (15 kB)\n",
            "Requirement already satisfied: tqdm in /usr/local/lib/python3.7/dist-packages (from opendatasets) (4.64.0)\n",
            "Requirement already satisfied: kaggle in /usr/local/lib/python3.7/dist-packages (from opendatasets) (1.5.12)\n",
            "Requirement already satisfied: click in /usr/local/lib/python3.7/dist-packages (from opendatasets) (7.1.2)\n",
            "Requirement already satisfied: python-slugify in /usr/local/lib/python3.7/dist-packages (from kaggle->opendatasets) (6.1.2)\n",
            "Requirement already satisfied: six>=1.10 in /usr/local/lib/python3.7/dist-packages (from kaggle->opendatasets) (1.15.0)\n",
            "Requirement already satisfied: python-dateutil in /usr/local/lib/python3.7/dist-packages (from kaggle->opendatasets) (2.8.2)\n",
            "Requirement already satisfied: urllib3 in /usr/local/lib/python3.7/dist-packages (from kaggle->opendatasets) (1.24.3)\n",
            "Requirement already satisfied: requests in /usr/local/lib/python3.7/dist-packages (from kaggle->opendatasets) (2.23.0)\n",
            "Requirement already satisfied: certifi in /usr/local/lib/python3.7/dist-packages (from kaggle->opendatasets) (2022.6.15)\n",
            "Requirement already satisfied: text-unidecode>=1.3 in /usr/local/lib/python3.7/dist-packages (from python-slugify->kaggle->opendatasets) (1.3)\n",
            "Requirement already satisfied: idna<3,>=2.5 in /usr/local/lib/python3.7/dist-packages (from requests->kaggle->opendatasets) (2.10)\n",
            "Requirement already satisfied: chardet<4,>=3.0.2 in /usr/local/lib/python3.7/dist-packages (from requests->kaggle->opendatasets) (3.0.4)\n",
            "Installing collected packages: opendatasets\n",
            "Successfully installed opendatasets-0.1.22\n"
          ]
        }
      ]
    },
    {
      "cell_type": "code",
      "source": [
        "import opendatasets as od\n",
        "import pandas\n",
        "  \n",
        "od.download(\n",
        "    \"https://www.kaggle.com/datasets/asdasdasasdas/garbage-classification/download\")"
      ],
      "metadata": {
        "colab": {
          "base_uri": "https://localhost:8080/"
        },
        "id": "oUpAR02UwCCg",
        "outputId": "c02fef06-1c33-4370-bae6-b80500c7b486"
      },
      "execution_count": 3,
      "outputs": [
        {
          "output_type": "stream",
          "name": "stdout",
          "text": [
            "Please provide your Kaggle credentials to download this dataset. Learn more: http://bit.ly/kaggle-creds\n",
            "Your Kaggle username: nandarlma\n",
            "Your Kaggle Key: ··········\n",
            "Downloading garbage-classification.zip to ./garbage-classification\n"
          ]
        },
        {
          "output_type": "stream",
          "name": "stderr",
          "text": [
            "100%|██████████| 82.0M/82.0M [00:00<00:00, 91.5MB/s]\n"
          ]
        },
        {
          "output_type": "stream",
          "name": "stdout",
          "text": [
            "\n"
          ]
        }
      ]
    },
    {
      "cell_type": "code",
      "source": [
        "import glob, os\n",
        "import cv2 as cv\n",
        "import pandas\n",
        "import numpy as np\n",
        "import pandas as pd\n",
        "import matplotlib.pyplot as plt\n",
        "from keras.preprocessing.image import ImageDataGenerator, load_img, img_to_array, array_to_img\n",
        "from keras.layers import Conv2D, Flatten, MaxPooling2D, Dense, Dropout,BatchNormalization\n",
        "from keras.models import Sequential"
      ],
      "metadata": {
        "id": "Y_wZJRY2wHxs"
      },
      "execution_count": 4,
      "outputs": []
    },
    {
      "cell_type": "code",
      "source": [
        "base_path = '/content/garbage-classification/garbage classification/Garbage classification'\n",
        "\n",
        "img_list = glob.glob(os.path.join(base_path, '*/*.jpg'))\n",
        "\n",
        "print(len(img_list))"
      ],
      "metadata": {
        "colab": {
          "base_uri": "https://localhost:8080/"
        },
        "id": "PxJAmwPQwJ1j",
        "outputId": "f9e76588-67d5-40f4-e0cf-561a8f518a00"
      },
      "execution_count": 5,
      "outputs": [
        {
          "output_type": "stream",
          "name": "stdout",
          "text": [
            "2527\n"
          ]
        }
      ]
    },
    {
      "cell_type": "code",
      "source": [
        "image_size = 512\n",
        "\n",
        "train_datagen = ImageDataGenerator(\n",
        "    rescale=1./255,\n",
        "    shear_range=0.1,\n",
        "    zoom_range=0.1,\n",
        "    width_shift_range=0.1,\n",
        "    height_shift_range=0.1,\n",
        "    horizontal_flip=True,\n",
        "    vertical_flip=True,\n",
        "    validation_split=0.2\n",
        ")\n",
        "\n",
        "test_datagen = ImageDataGenerator(\n",
        "    rescale=1./255,\n",
        "    validation_split=0.1\n",
        ")\n",
        "\n",
        "train_generator = train_datagen.flow_from_directory(\n",
        "    base_path,\n",
        "    target_size=(image_size, image_size),\n",
        "    batch_size=16,\n",
        "    class_mode='categorical',\n",
        "    subset='training',\n",
        "    seed=0\n",
        ")\n",
        "\n",
        "validation_generator = test_datagen.flow_from_directory(\n",
        "    base_path,\n",
        "    target_size=(image_size, image_size),\n",
        "    batch_size=16,\n",
        "    class_mode='categorical',\n",
        "    subset='validation',\n",
        "    seed=0\n",
        ")\n",
        "\n",
        "labels = (train_generator.class_indices)\n",
        "labels = dict((v,k) for k,v in labels.items())\n",
        "\n",
        "print(labels)"
      ],
      "metadata": {
        "colab": {
          "base_uri": "https://localhost:8080/"
        },
        "id": "dwu8qNlIwM2t",
        "outputId": "27949f45-faa6-42a7-90b4-7e372db29df2"
      },
      "execution_count": 6,
      "outputs": [
        {
          "output_type": "stream",
          "name": "stdout",
          "text": [
            "Found 2024 images belonging to 6 classes.\n",
            "Found 251 images belonging to 6 classes.\n",
            "{0: 'cardboard', 1: 'glass', 2: 'metal', 3: 'paper', 4: 'plastic', 5: 'trash'}\n"
          ]
        }
      ]
    },
    {
      "cell_type": "code",
      "source": [
        "model2 = Sequential([\n",
        "    Conv2D(32, kernel_size=3, activation='relu', input_shape=(image_size, image_size, 3)),\n",
        "    MaxPooling2D(pool_size=2),\n",
        "\n",
        "    Conv2D(64, kernel_size=3, activation='relu'),\n",
        "    MaxPooling2D(pool_size=2),\n",
        "    \n",
        "    Conv2D(128, kernel_size=3, activation='relu'),\n",
        "    MaxPooling2D(pool_size=2),\n",
        "    Dropout(0.3),\n",
        "    \n",
        "    Flatten(),\n",
        "    Dense(128, activation='relu'),\n",
        "\n",
        "    Dense(64, activation='relu'),\n",
        "\n",
        "    Dense(6, activation='softmax')\n",
        "])\n",
        "\n",
        "model2.summary()"
      ],
      "metadata": {
        "colab": {
          "base_uri": "https://localhost:8080/"
        },
        "id": "-5_iv4mQwRsQ",
        "outputId": "97191313-20bd-485b-b266-97f60ab242fc"
      },
      "execution_count": 20,
      "outputs": [
        {
          "output_type": "stream",
          "name": "stdout",
          "text": [
            "Model: \"sequential_4\"\n",
            "_________________________________________________________________\n",
            " Layer (type)                Output Shape              Param #   \n",
            "=================================================================\n",
            " conv2d_21 (Conv2D)          (None, 510, 510, 32)      896       \n",
            "                                                                 \n",
            " max_pooling2d_18 (MaxPoolin  (None, 255, 255, 32)     0         \n",
            " g2D)                                                            \n",
            "                                                                 \n",
            " conv2d_22 (Conv2D)          (None, 253, 253, 64)      18496     \n",
            "                                                                 \n",
            " max_pooling2d_19 (MaxPoolin  (None, 126, 126, 64)     0         \n",
            " g2D)                                                            \n",
            "                                                                 \n",
            " conv2d_23 (Conv2D)          (None, 124, 124, 128)     73856     \n",
            "                                                                 \n",
            " max_pooling2d_20 (MaxPoolin  (None, 62, 62, 128)      0         \n",
            " g2D)                                                            \n",
            "                                                                 \n",
            " dropout_4 (Dropout)         (None, 62, 62, 128)       0         \n",
            "                                                                 \n",
            " flatten_4 (Flatten)         (None, 492032)            0         \n",
            "                                                                 \n",
            " dense_13 (Dense)            (None, 128)               62980224  \n",
            "                                                                 \n",
            " dense_14 (Dense)            (None, 64)                8256      \n",
            "                                                                 \n",
            " dense_15 (Dense)            (None, 6)                 390       \n",
            "                                                                 \n",
            "=================================================================\n",
            "Total params: 63,082,118\n",
            "Trainable params: 63,082,118\n",
            "Non-trainable params: 0\n",
            "_________________________________________________________________\n"
          ]
        }
      ]
    },
    {
      "cell_type": "code",
      "source": [
        "from tensorflow import keras \n",
        "model2.compile(loss = 'categorical_crossentropy', optimizer= 'adam',metrics=[\"accuracy\",keras.metrics.Precision(),keras.metrics.Recall()])"
      ],
      "metadata": {
        "id": "ZF_lbYqpwnzO"
      },
      "execution_count": 21,
      "outputs": []
    },
    {
      "cell_type": "code",
      "source": [
        "early_stopping = tf.keras.callbacks.EarlyStopping(monitor='loss', patience=5)\n",
        "\n",
        "model2.fit_generator(train_generator,\n",
        "                    epochs=20,\n",
        "                    validation_data=validation_generator,\n",
        "                    verbose = 1,\n",
        "                    callbacks=[early_stopping])"
      ],
      "metadata": {
        "colab": {
          "base_uri": "https://localhost:8080/"
        },
        "id": "xC9oYwDmwi8R",
        "outputId": "706ce40a-85f7-4274-f19d-a31ccb12d907"
      },
      "execution_count": 22,
      "outputs": [
        {
          "metadata": {
            "tags": null
          },
          "name": "stderr",
          "output_type": "stream",
          "text": [
            "/usr/local/lib/python3.7/dist-packages/ipykernel_launcher.py:7: UserWarning: `Model.fit_generator` is deprecated and will be removed in a future version. Please use `Model.fit`, which supports generators.\n",
            "  import sys\n"
          ]
        },
        {
          "output_type": "stream",
          "name": "stdout",
          "text": [
            "Epoch 1/20\n",
            "127/127 [==============================] - 111s 867ms/step - loss: 2.0939 - accuracy: 0.2080 - precision_4: 0.1964 - recall_4: 0.0054 - val_loss: 1.7440 - val_accuracy: 0.2351 - val_precision_4: 0.0000e+00 - val_recall_4: 0.0000e+00\n",
            "Epoch 2/20\n",
            "127/127 [==============================] - 119s 934ms/step - loss: 1.7289 - accuracy: 0.2456 - precision_4: 0.2400 - recall_4: 0.0030 - val_loss: 1.6847 - val_accuracy: 0.2908 - val_precision_4: 0.0000e+00 - val_recall_4: 0.0000e+00\n",
            "Epoch 3/20\n",
            "127/127 [==============================] - 109s 853ms/step - loss: 1.6503 - accuracy: 0.3167 - precision_4: 0.5326 - recall_4: 0.0242 - val_loss: 1.6832 - val_accuracy: 0.2908 - val_precision_4: 0.4000 - val_recall_4: 0.0159\n",
            "Epoch 4/20\n",
            "127/127 [==============================] - 107s 841ms/step - loss: 1.5312 - accuracy: 0.3780 - precision_4: 0.5891 - recall_4: 0.0800 - val_loss: 1.4375 - val_accuracy: 0.3984 - val_precision_4: 0.6981 - val_recall_4: 0.1474\n",
            "Epoch 5/20\n",
            "127/127 [==============================] - 107s 839ms/step - loss: 1.4311 - accuracy: 0.4224 - precision_4: 0.6769 - recall_4: 0.1304 - val_loss: 1.4501 - val_accuracy: 0.4064 - val_precision_4: 0.7407 - val_recall_4: 0.0797\n",
            "Epoch 6/20\n",
            "127/127 [==============================] - 107s 840ms/step - loss: 1.3268 - accuracy: 0.4610 - precision_4: 0.6855 - recall_4: 0.2100 - val_loss: 1.3416 - val_accuracy: 0.4343 - val_precision_4: 0.6420 - val_recall_4: 0.2072\n",
            "Epoch 7/20\n",
            "127/127 [==============================] - 107s 839ms/step - loss: 1.2371 - accuracy: 0.4980 - precision_4: 0.7171 - recall_4: 0.3019 - val_loss: 1.2695 - val_accuracy: 0.4462 - val_precision_4: 0.7143 - val_recall_4: 0.2590\n",
            "Epoch 8/20\n",
            "127/127 [==============================] - 107s 839ms/step - loss: 1.2198 - accuracy: 0.5178 - precision_4: 0.7032 - recall_4: 0.3103 - val_loss: 1.2165 - val_accuracy: 0.5100 - val_precision_4: 0.7658 - val_recall_4: 0.3386\n",
            "Epoch 9/20\n",
            "127/127 [==============================] - 107s 838ms/step - loss: 1.1617 - accuracy: 0.5479 - precision_4: 0.7234 - recall_4: 0.3567 - val_loss: 1.2482 - val_accuracy: 0.4821 - val_precision_4: 0.6810 - val_recall_4: 0.3147\n",
            "Epoch 10/20\n",
            "127/127 [==============================] - 107s 840ms/step - loss: 1.1197 - accuracy: 0.5662 - precision_4: 0.7374 - recall_4: 0.3982 - val_loss: 1.1391 - val_accuracy: 0.5578 - val_precision_4: 0.7600 - val_recall_4: 0.3028\n",
            "Epoch 11/20\n",
            "127/127 [==============================] - 107s 840ms/step - loss: 1.1354 - accuracy: 0.5830 - precision_4: 0.7265 - recall_4: 0.3859 - val_loss: 1.1475 - val_accuracy: 0.5259 - val_precision_4: 0.7699 - val_recall_4: 0.3466\n",
            "Epoch 12/20\n",
            "127/127 [==============================] - 106s 832ms/step - loss: 1.0667 - accuracy: 0.6038 - precision_4: 0.7513 - recall_4: 0.4313 - val_loss: 1.1431 - val_accuracy: 0.5139 - val_precision_4: 0.6947 - val_recall_4: 0.3625\n",
            "Epoch 13/20\n",
            "127/127 [==============================] - 107s 840ms/step - loss: 1.0666 - accuracy: 0.5850 - precision_4: 0.7291 - recall_4: 0.4229 - val_loss: 1.0524 - val_accuracy: 0.5498 - val_precision_4: 0.7829 - val_recall_4: 0.4024\n",
            "Epoch 14/20\n",
            "127/127 [==============================] - 107s 841ms/step - loss: 0.9860 - accuracy: 0.6304 - precision_4: 0.7453 - recall_4: 0.4699 - val_loss: 1.2814 - val_accuracy: 0.5936 - val_precision_4: 0.6918 - val_recall_4: 0.4382\n",
            "Epoch 15/20\n",
            "127/127 [==============================] - 106s 837ms/step - loss: 1.0117 - accuracy: 0.6280 - precision_4: 0.7536 - recall_4: 0.4654 - val_loss: 1.0663 - val_accuracy: 0.5657 - val_precision_4: 0.7483 - val_recall_4: 0.4263\n",
            "Epoch 16/20\n",
            "127/127 [==============================] - 106s 835ms/step - loss: 0.9575 - accuracy: 0.6280 - precision_4: 0.7640 - recall_4: 0.4975 - val_loss: 1.1150 - val_accuracy: 0.5538 - val_precision_4: 0.7305 - val_recall_4: 0.4104\n",
            "Epoch 17/20\n",
            "127/127 [==============================] - 106s 835ms/step - loss: 0.9684 - accuracy: 0.6403 - precision_4: 0.7684 - recall_4: 0.5015 - val_loss: 1.1885 - val_accuracy: 0.5578 - val_precision_4: 0.6795 - val_recall_4: 0.4223\n",
            "Epoch 18/20\n",
            "127/127 [==============================] - 106s 830ms/step - loss: 0.9658 - accuracy: 0.6374 - precision_4: 0.7516 - recall_4: 0.5173 - val_loss: 1.1433 - val_accuracy: 0.5777 - val_precision_4: 0.7050 - val_recall_4: 0.3904\n",
            "Epoch 19/20\n",
            "127/127 [==============================] - 106s 831ms/step - loss: 0.9211 - accuracy: 0.6690 - precision_4: 0.7783 - recall_4: 0.5257 - val_loss: 1.0523 - val_accuracy: 0.5976 - val_precision_4: 0.7532 - val_recall_4: 0.4622\n",
            "Epoch 20/20\n",
            "127/127 [==============================] - 106s 832ms/step - loss: 0.8998 - accuracy: 0.6527 - precision_4: 0.7601 - recall_4: 0.5321 - val_loss: 0.9824 - val_accuracy: 0.6096 - val_precision_4: 0.7975 - val_recall_4: 0.5020\n"
          ]
        },
        {
          "output_type": "execute_result",
          "data": {
            "text/plain": [
              "<keras.callbacks.History at 0x7f12d27bb650>"
            ]
          },
          "metadata": {},
          "execution_count": 22
        }
      ]
    },
    {
      "cell_type": "code",
      "source": [
        "model2.fit_generator(train_generator,\n",
        "                    epochs=20,\n",
        "                    validation_data=validation_generator,\n",
        "                    callbacks=[early_stopping],\n",
        "                    verbose=1)"
      ],
      "metadata": {
        "colab": {
          "base_uri": "https://localhost:8080/"
        },
        "id": "xuDfdHePw1y6",
        "outputId": "a019d4c6-32e0-4317-ed99-4202e52dde62"
      },
      "execution_count": 23,
      "outputs": [
        {
          "output_type": "stream",
          "name": "stderr",
          "text": [
            "/usr/local/lib/python3.7/dist-packages/ipykernel_launcher.py:5: UserWarning: `Model.fit_generator` is deprecated and will be removed in a future version. Please use `Model.fit`, which supports generators.\n",
            "  \"\"\"\n"
          ]
        },
        {
          "output_type": "stream",
          "name": "stdout",
          "text": [
            "Epoch 1/20\n",
            "127/127 [==============================] - 106s 837ms/step - loss: 0.8827 - accuracy: 0.6729 - precision_4: 0.7732 - recall_4: 0.5593 - val_loss: 0.9901 - val_accuracy: 0.6135 - val_precision_4: 0.7548 - val_recall_4: 0.4661\n",
            "Epoch 2/20\n",
            "127/127 [==============================] - 111s 873ms/step - loss: 0.8359 - accuracy: 0.6882 - precision_4: 0.7890 - recall_4: 0.5800 - val_loss: 1.0115 - val_accuracy: 0.6175 - val_precision_4: 0.7340 - val_recall_4: 0.5498\n",
            "Epoch 3/20\n",
            "127/127 [==============================] - 106s 835ms/step - loss: 0.8215 - accuracy: 0.6882 - precision_4: 0.7846 - recall_4: 0.5884 - val_loss: 1.0064 - val_accuracy: 0.6175 - val_precision_4: 0.7273 - val_recall_4: 0.5100\n",
            "Epoch 4/20\n",
            "127/127 [==============================] - 106s 835ms/step - loss: 0.8308 - accuracy: 0.6853 - precision_4: 0.7873 - recall_4: 0.5781 - val_loss: 1.0198 - val_accuracy: 0.6215 - val_precision_4: 0.7228 - val_recall_4: 0.5299\n",
            "Epoch 5/20\n",
            "127/127 [==============================] - 106s 834ms/step - loss: 0.7907 - accuracy: 0.7026 - precision_4: 0.8039 - recall_4: 0.6136 - val_loss: 1.0227 - val_accuracy: 0.6454 - val_precision_4: 0.7278 - val_recall_4: 0.5219\n",
            "Epoch 6/20\n",
            "127/127 [==============================] - 119s 934ms/step - loss: 0.7649 - accuracy: 0.7228 - precision_4: 0.8054 - recall_4: 0.6319 - val_loss: 0.9858 - val_accuracy: 0.6295 - val_precision_4: 0.7351 - val_recall_4: 0.5418\n",
            "Epoch 7/20\n",
            "127/127 [==============================] - 108s 851ms/step - loss: 0.7782 - accuracy: 0.7253 - precision_4: 0.8111 - recall_4: 0.6260 - val_loss: 1.0178 - val_accuracy: 0.5936 - val_precision_4: 0.7692 - val_recall_4: 0.5179\n",
            "Epoch 8/20\n",
            "127/127 [==============================] - 105s 829ms/step - loss: 0.7159 - accuracy: 0.7253 - precision_4: 0.8109 - recall_4: 0.6378 - val_loss: 0.9693 - val_accuracy: 0.6375 - val_precision_4: 0.7459 - val_recall_4: 0.5498\n",
            "Epoch 9/20\n",
            "127/127 [==============================] - 106s 837ms/step - loss: 0.7708 - accuracy: 0.7110 - precision_4: 0.8075 - recall_4: 0.6240 - val_loss: 0.9157 - val_accuracy: 0.6175 - val_precision_4: 0.7158 - val_recall_4: 0.5418\n",
            "Epoch 10/20\n",
            "127/127 [==============================] - 106s 835ms/step - loss: 0.7066 - accuracy: 0.7451 - precision_4: 0.8130 - recall_4: 0.6571 - val_loss: 0.9555 - val_accuracy: 0.6454 - val_precision_4: 0.7245 - val_recall_4: 0.5657\n",
            "Epoch 11/20\n",
            "127/127 [==============================] - 106s 834ms/step - loss: 0.7116 - accuracy: 0.7431 - precision_4: 0.8139 - recall_4: 0.6611 - val_loss: 1.0444 - val_accuracy: 0.6454 - val_precision_4: 0.7005 - val_recall_4: 0.5777\n",
            "Epoch 12/20\n",
            "127/127 [==============================] - 106s 835ms/step - loss: 0.6721 - accuracy: 0.7584 - precision_4: 0.8229 - recall_4: 0.6793 - val_loss: 1.0920 - val_accuracy: 0.6614 - val_precision_4: 0.7347 - val_recall_4: 0.5737\n",
            "Epoch 13/20\n",
            "127/127 [==============================] - 106s 834ms/step - loss: 0.6868 - accuracy: 0.7544 - precision_4: 0.8162 - recall_4: 0.6779 - val_loss: 0.9320 - val_accuracy: 0.6295 - val_precision_4: 0.7622 - val_recall_4: 0.5618\n",
            "Epoch 14/20\n",
            "127/127 [==============================] - 106s 836ms/step - loss: 0.6349 - accuracy: 0.7767 - precision_4: 0.8448 - recall_4: 0.7129 - val_loss: 1.0213 - val_accuracy: 0.6056 - val_precision_4: 0.6888 - val_recall_4: 0.5378\n",
            "Epoch 15/20\n",
            "127/127 [==============================] - 106s 835ms/step - loss: 0.6653 - accuracy: 0.7624 - precision_4: 0.8289 - recall_4: 0.6892 - val_loss: 0.9731 - val_accuracy: 0.6335 - val_precision_4: 0.7115 - val_recall_4: 0.5896\n",
            "Epoch 16/20\n",
            "127/127 [==============================] - 106s 833ms/step - loss: 0.6460 - accuracy: 0.7668 - precision_4: 0.8329 - recall_4: 0.6971 - val_loss: 0.9815 - val_accuracy: 0.6574 - val_precision_4: 0.7382 - val_recall_4: 0.5618\n",
            "Epoch 17/20\n",
            "127/127 [==============================] - 106s 835ms/step - loss: 0.5898 - accuracy: 0.7787 - precision_4: 0.8423 - recall_4: 0.7228 - val_loss: 0.9868 - val_accuracy: 0.6494 - val_precision_4: 0.7212 - val_recall_4: 0.5976\n",
            "Epoch 18/20\n",
            "127/127 [==============================] - 106s 835ms/step - loss: 0.5707 - accuracy: 0.7984 - precision_4: 0.8425 - recall_4: 0.7347 - val_loss: 0.9793 - val_accuracy: 0.6853 - val_precision_4: 0.7225 - val_recall_4: 0.6016\n",
            "Epoch 19/20\n",
            "127/127 [==============================] - 106s 833ms/step - loss: 0.6424 - accuracy: 0.7737 - precision_4: 0.8395 - recall_4: 0.7208 - val_loss: 0.9464 - val_accuracy: 0.6693 - val_precision_4: 0.7795 - val_recall_4: 0.6056\n",
            "Epoch 20/20\n",
            "127/127 [==============================] - 106s 834ms/step - loss: 0.5453 - accuracy: 0.8019 - precision_4: 0.8519 - recall_4: 0.7446 - val_loss: 0.8731 - val_accuracy: 0.6693 - val_precision_4: 0.7659 - val_recall_4: 0.6255\n"
          ]
        },
        {
          "output_type": "execute_result",
          "data": {
            "text/plain": [
              "<keras.callbacks.History at 0x7f12d2425e50>"
            ]
          },
          "metadata": {},
          "execution_count": 23
        }
      ]
    },
    {
      "cell_type": "code",
      "source": [
        "model2.fit_generator(train_generator,\n",
        "                    epochs=20,\n",
        "                    validation_data=validation_generator,\n",
        "                    callbacks=[early_stopping],\n",
        "                    verbose=1)"
      ],
      "metadata": {
        "colab": {
          "base_uri": "https://localhost:8080/"
        },
        "id": "BJKdm94R-f5g",
        "outputId": "5fdac018-d42f-43ef-fdb2-82ee3f73fd44"
      },
      "execution_count": 24,
      "outputs": [
        {
          "output_type": "stream",
          "name": "stderr",
          "text": [
            "/usr/local/lib/python3.7/dist-packages/ipykernel_launcher.py:5: UserWarning: `Model.fit_generator` is deprecated and will be removed in a future version. Please use `Model.fit`, which supports generators.\n",
            "  \"\"\"\n"
          ]
        },
        {
          "output_type": "stream",
          "name": "stdout",
          "text": [
            "Epoch 1/20\n",
            "127/127 [==============================] - 106s 836ms/step - loss: 0.5534 - accuracy: 0.7994 - precision_4: 0.8550 - recall_4: 0.7485 - val_loss: 1.0899 - val_accuracy: 0.6614 - val_precision_4: 0.6916 - val_recall_4: 0.6255\n",
            "Epoch 2/20\n",
            "127/127 [==============================] - 108s 849ms/step - loss: 0.5433 - accuracy: 0.7969 - precision_4: 0.8576 - recall_4: 0.7559 - val_loss: 0.8589 - val_accuracy: 0.7012 - val_precision_4: 0.7321 - val_recall_4: 0.6534\n",
            "Epoch 3/20\n",
            "127/127 [==============================] - 106s 837ms/step - loss: 0.5486 - accuracy: 0.7959 - precision_4: 0.8377 - recall_4: 0.7500 - val_loss: 0.9199 - val_accuracy: 0.6892 - val_precision_4: 0.7630 - val_recall_4: 0.6414\n",
            "Epoch 4/20\n",
            "127/127 [==============================] - 106s 836ms/step - loss: 0.5271 - accuracy: 0.8019 - precision_4: 0.8552 - recall_4: 0.7648 - val_loss: 0.9496 - val_accuracy: 0.7092 - val_precision_4: 0.7489 - val_recall_4: 0.6534\n",
            "Epoch 5/20\n",
            "127/127 [==============================] - 106s 837ms/step - loss: 0.5113 - accuracy: 0.8202 - precision_4: 0.8557 - recall_4: 0.7762 - val_loss: 0.9761 - val_accuracy: 0.6813 - val_precision_4: 0.7212 - val_recall_4: 0.6494\n",
            "Epoch 6/20\n",
            "127/127 [==============================] - 106s 836ms/step - loss: 0.5043 - accuracy: 0.8211 - precision_4: 0.8578 - recall_4: 0.7717 - val_loss: 1.0111 - val_accuracy: 0.6653 - val_precision_4: 0.7379 - val_recall_4: 0.6056\n",
            "Epoch 7/20\n",
            "127/127 [==============================] - 106s 836ms/step - loss: 0.5539 - accuracy: 0.7984 - precision_4: 0.8445 - recall_4: 0.7485 - val_loss: 0.8591 - val_accuracy: 0.6853 - val_precision_4: 0.7418 - val_recall_4: 0.6295\n",
            "Epoch 8/20\n",
            "127/127 [==============================] - 106s 837ms/step - loss: 0.4944 - accuracy: 0.8202 - precision_4: 0.8586 - recall_4: 0.7772 - val_loss: 0.8875 - val_accuracy: 0.6773 - val_precision_4: 0.7294 - val_recall_4: 0.6335\n",
            "Epoch 9/20\n",
            "127/127 [==============================] - 106s 835ms/step - loss: 0.4525 - accuracy: 0.8434 - precision_4: 0.8800 - recall_4: 0.8009 - val_loss: 0.9746 - val_accuracy: 0.6813 - val_precision_4: 0.7453 - val_recall_4: 0.6295\n",
            "Epoch 10/20\n",
            "127/127 [==============================] - 106s 836ms/step - loss: 0.4491 - accuracy: 0.8365 - precision_4: 0.8680 - recall_4: 0.7994 - val_loss: 0.9498 - val_accuracy: 0.6614 - val_precision_4: 0.7222 - val_recall_4: 0.6215\n",
            "Epoch 11/20\n",
            "127/127 [==============================] - 123s 971ms/step - loss: 0.4481 - accuracy: 0.8454 - precision_4: 0.8798 - recall_4: 0.8098 - val_loss: 0.9529 - val_accuracy: 0.6733 - val_precision_4: 0.7176 - val_recall_4: 0.6175\n",
            "Epoch 12/20\n",
            "127/127 [==============================] - 109s 858ms/step - loss: 0.4048 - accuracy: 0.8577 - precision_4: 0.8837 - recall_4: 0.8261 - val_loss: 0.8582 - val_accuracy: 0.6853 - val_precision_4: 0.7297 - val_recall_4: 0.6454\n",
            "Epoch 13/20\n",
            "127/127 [==============================] - 106s 836ms/step - loss: 0.4347 - accuracy: 0.8295 - precision_4: 0.8674 - recall_4: 0.7984 - val_loss: 0.8782 - val_accuracy: 0.7131 - val_precision_4: 0.7615 - val_recall_4: 0.6614\n",
            "Epoch 14/20\n",
            "127/127 [==============================] - 107s 838ms/step - loss: 0.4241 - accuracy: 0.8577 - precision_4: 0.8895 - recall_4: 0.8236 - val_loss: 0.8560 - val_accuracy: 0.6972 - val_precision_4: 0.7617 - val_recall_4: 0.6494\n",
            "Epoch 15/20\n",
            "127/127 [==============================] - 106s 837ms/step - loss: 0.4148 - accuracy: 0.8587 - precision_4: 0.8913 - recall_4: 0.8266 - val_loss: 0.9714 - val_accuracy: 0.6972 - val_precision_4: 0.7385 - val_recall_4: 0.6414\n",
            "Epoch 16/20\n",
            "127/127 [==============================] - 106s 835ms/step - loss: 0.3943 - accuracy: 0.8587 - precision_4: 0.8813 - recall_4: 0.8256 - val_loss: 0.8810 - val_accuracy: 0.7012 - val_precision_4: 0.7306 - val_recall_4: 0.6375\n",
            "Epoch 17/20\n",
            "127/127 [==============================] - 106s 836ms/step - loss: 0.4244 - accuracy: 0.8493 - precision_4: 0.8775 - recall_4: 0.8142 - val_loss: 0.9091 - val_accuracy: 0.7092 - val_precision_4: 0.7589 - val_recall_4: 0.6773\n",
            "Epoch 18/20\n",
            "127/127 [==============================] - 106s 834ms/step - loss: 0.3859 - accuracy: 0.8686 - precision_4: 0.8971 - recall_4: 0.8439 - val_loss: 0.9018 - val_accuracy: 0.7012 - val_precision_4: 0.7391 - val_recall_4: 0.6773\n",
            "Epoch 19/20\n",
            "127/127 [==============================] - 107s 840ms/step - loss: 0.3776 - accuracy: 0.8681 - precision_4: 0.8944 - recall_4: 0.8409 - val_loss: 0.8877 - val_accuracy: 0.7131 - val_precision_4: 0.7421 - val_recall_4: 0.6534\n",
            "Epoch 20/20\n",
            "127/127 [==============================] - 107s 841ms/step - loss: 0.3710 - accuracy: 0.8750 - precision_4: 0.9002 - recall_4: 0.8468 - val_loss: 0.9579 - val_accuracy: 0.6853 - val_precision_4: 0.7155 - val_recall_4: 0.6614\n"
          ]
        },
        {
          "output_type": "execute_result",
          "data": {
            "text/plain": [
              "<keras.callbacks.History at 0x7f12d2081150>"
            ]
          },
          "metadata": {},
          "execution_count": 24
        }
      ]
    },
    {
      "cell_type": "code",
      "source": [
        "model2.fit_generator(train_generator,\n",
        "                    epochs=10,\n",
        "                    validation_data=validation_generator,\n",
        "                    callbacks=[early_stopping],\n",
        "                    verbose=1)"
      ],
      "metadata": {
        "colab": {
          "base_uri": "https://localhost:8080/"
        },
        "id": "Gb-KfgY8NT2w",
        "outputId": "f3aad39b-c221-4bc2-c763-32082fb1dd76"
      },
      "execution_count": 25,
      "outputs": [
        {
          "output_type": "stream",
          "name": "stderr",
          "text": [
            "/usr/local/lib/python3.7/dist-packages/ipykernel_launcher.py:5: UserWarning: `Model.fit_generator` is deprecated and will be removed in a future version. Please use `Model.fit`, which supports generators.\n",
            "  \"\"\"\n"
          ]
        },
        {
          "output_type": "stream",
          "name": "stdout",
          "text": [
            "Epoch 1/10\n",
            "127/127 [==============================] - 106s 836ms/step - loss: 0.3476 - accuracy: 0.8745 - precision_4: 0.9004 - recall_4: 0.8533 - val_loss: 1.0279 - val_accuracy: 0.7052 - val_precision_4: 0.7350 - val_recall_4: 0.6853\n",
            "Epoch 2/10\n",
            "127/127 [==============================] - 106s 835ms/step - loss: 0.3578 - accuracy: 0.8725 - precision_4: 0.9048 - recall_4: 0.8503 - val_loss: 0.9023 - val_accuracy: 0.7131 - val_precision_4: 0.7558 - val_recall_4: 0.6534\n",
            "Epoch 3/10\n",
            "127/127 [==============================] - 106s 833ms/step - loss: 0.4224 - accuracy: 0.8473 - precision_4: 0.8781 - recall_4: 0.8295 - val_loss: 0.8807 - val_accuracy: 0.6972 - val_precision_4: 0.7124 - val_recall_4: 0.6614\n",
            "Epoch 4/10\n",
            "127/127 [==============================] - 106s 832ms/step - loss: 0.3853 - accuracy: 0.8557 - precision_4: 0.8882 - recall_4: 0.8281 - val_loss: 0.9634 - val_accuracy: 0.7012 - val_precision_4: 0.7434 - val_recall_4: 0.6693\n",
            "Epoch 5/10\n",
            "127/127 [==============================] - 106s 834ms/step - loss: 0.3228 - accuracy: 0.8883 - precision_4: 0.9087 - recall_4: 0.8706 - val_loss: 0.9169 - val_accuracy: 0.6932 - val_precision_4: 0.7421 - val_recall_4: 0.6534\n",
            "Epoch 6/10\n",
            "127/127 [==============================] - 108s 852ms/step - loss: 0.4156 - accuracy: 0.8577 - precision_4: 0.8867 - recall_4: 0.8355 - val_loss: 0.7952 - val_accuracy: 0.7251 - val_precision_4: 0.7742 - val_recall_4: 0.6693\n",
            "Epoch 7/10\n",
            "127/127 [==============================] - 106s 832ms/step - loss: 0.3848 - accuracy: 0.8656 - precision_4: 0.8877 - recall_4: 0.8394 - val_loss: 1.0499 - val_accuracy: 0.6853 - val_precision_4: 0.7225 - val_recall_4: 0.6534\n",
            "Epoch 8/10\n",
            "127/127 [==============================] - 106s 837ms/step - loss: 0.3277 - accuracy: 0.8819 - precision_4: 0.9067 - recall_4: 0.8597 - val_loss: 0.8580 - val_accuracy: 0.6853 - val_precision_4: 0.7080 - val_recall_4: 0.6375\n",
            "Epoch 9/10\n",
            "127/127 [==============================] - 106s 832ms/step - loss: 0.3571 - accuracy: 0.8651 - precision_4: 0.8894 - recall_4: 0.8424 - val_loss: 0.8639 - val_accuracy: 0.6813 - val_precision_4: 0.7009 - val_recall_4: 0.6255\n",
            "Epoch 10/10\n",
            "127/127 [==============================] - 106s 833ms/step - loss: 0.3246 - accuracy: 0.8804 - precision_4: 0.8970 - recall_4: 0.8607 - val_loss: 0.8693 - val_accuracy: 0.7012 - val_precision_4: 0.7304 - val_recall_4: 0.6693\n"
          ]
        },
        {
          "output_type": "execute_result",
          "data": {
            "text/plain": [
              "<keras.callbacks.History at 0x7f119a7451d0>"
            ]
          },
          "metadata": {},
          "execution_count": 25
        }
      ]
    },
    {
      "cell_type": "code",
      "source": [
        "model2.save('waste_classification_v2.h5')"
      ],
      "metadata": {
        "id": "TFECYI0j-gtY"
      },
      "execution_count": 34,
      "outputs": []
    }
  ]
}