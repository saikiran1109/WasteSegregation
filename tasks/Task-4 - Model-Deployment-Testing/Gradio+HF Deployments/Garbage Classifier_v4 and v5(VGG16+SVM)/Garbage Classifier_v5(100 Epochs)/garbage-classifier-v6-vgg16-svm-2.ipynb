{
 "cells": [
  {
   "cell_type": "markdown",
   "id": "49f1eba2",
   "metadata": {
    "_cell_guid": "b1076dfc-b9ad-4769-8c92-a6c4dae69d19",
    "_uuid": "8f2839f25d086af736a60e9eeb907d3b93b6e0e5",
    "papermill": {
     "duration": 0.007893,
     "end_time": "2022-08-09T09:44:09.643055",
     "exception": false,
     "start_time": "2022-08-09T09:44:09.635162",
     "status": "completed"
    },
    "tags": []
   },
   "source": [
    "# Garbage Classification using VGG16 + SVM"
   ]
  },
  {
   "cell_type": "markdown",
   "id": "a5844ae6",
   "metadata": {
    "papermill": {
     "duration": 0.006533,
     "end_time": "2022-08-09T09:44:09.656195",
     "exception": false,
     "start_time": "2022-08-09T09:44:09.649662",
     "status": "completed"
    },
    "tags": []
   },
   "source": [
    "# Import Required Libraries"
   ]
  },
  {
   "cell_type": "code",
   "execution_count": 1,
   "id": "b084536f",
   "metadata": {
    "execution": {
     "iopub.execute_input": "2022-08-09T09:44:09.671856Z",
     "iopub.status.busy": "2022-08-09T09:44:09.671041Z",
     "iopub.status.idle": "2022-08-09T09:44:16.102925Z",
     "shell.execute_reply": "2022-08-09T09:44:16.101476Z"
    },
    "papermill": {
     "duration": 6.443459,
     "end_time": "2022-08-09T09:44:16.106508",
     "exception": false,
     "start_time": "2022-08-09T09:44:09.663049",
     "status": "completed"
    },
    "tags": []
   },
   "outputs": [
    {
     "name": "stdout",
     "output_type": "stream",
     "text": [
      "setup successful!\n"
     ]
    }
   ],
   "source": [
    "import numpy as np\n",
    "import pandas as pd \n",
    "import random\n",
    "import os\n",
    "import matplotlib.pyplot as plt\n",
    "import seaborn as sns\n",
    "import zipfile\n",
    "import sys\n",
    "import time\n",
    "from tensorflow.keras.applications import VGG16\n",
    "from tensorflow.keras.applications.vgg16 import preprocess_input\n",
    "\n",
    "import tensorflow.keras as keras\n",
    "import tensorflow as tf\n",
    "import re\n",
    "\n",
    "from PIL import Image\n",
    "from keras.layers import Input, Conv2D, Dense, Flatten, MaxPooling2D, Input, GlobalAveragePooling2D\n",
    "from tensorflow.keras.layers.experimental.preprocessing import Normalization\n",
    "from keras.models import Model, Sequential\n",
    "from keras.preprocessing import image\n",
    "from tensorflow.keras.utils import to_categorical\n",
    "from keras.layers import Lambda\n",
    "from keras.callbacks import EarlyStopping\n",
    "from sklearn.model_selection import train_test_split\n",
    "from sklearn.metrics import classification_report\n",
    "\n",
    "print('setup successful!')"
   ]
  },
  {
   "cell_type": "markdown",
   "id": "22891a34",
   "metadata": {
    "papermill": {
     "duration": 0.007771,
     "end_time": "2022-08-09T09:44:16.122248",
     "exception": false,
     "start_time": "2022-08-09T09:44:16.114477",
     "status": "completed"
    },
    "tags": []
   },
   "source": [
    "# Define Constants"
   ]
  },
  {
   "cell_type": "code",
   "execution_count": 2,
   "id": "0a2db7ad",
   "metadata": {
    "execution": {
     "iopub.execute_input": "2022-08-09T09:44:16.140130Z",
     "iopub.status.busy": "2022-08-09T09:44:16.138770Z",
     "iopub.status.idle": "2022-08-09T09:44:16.147160Z",
     "shell.execute_reply": "2022-08-09T09:44:16.145932Z"
    },
    "papermill": {
     "duration": 0.020878,
     "end_time": "2022-08-09T09:44:16.150840",
     "exception": false,
     "start_time": "2022-08-09T09:44:16.129962",
     "status": "completed"
    },
    "tags": []
   },
   "outputs": [
    {
     "name": "stdout",
     "output_type": "stream",
     "text": [
      "defining constants successful!\n"
     ]
    }
   ],
   "source": [
    "# Increasing the image size didn't result in increasing the training accuracy\n",
    "IMAGE_WIDTH = 224    \n",
    "IMAGE_HEIGHT = 224\n",
    "IMAGE_SIZE=(IMAGE_WIDTH, IMAGE_HEIGHT)\n",
    "IMAGE_CHANNELS = 3\n",
    "\n",
    "\n",
    "# Path where our data is located\n",
    "base_path = \"../input/garbage-seg-10-v5/Garbage Seg 10 V5/\"\n",
    "\n",
    "# Dictionary to save our 12 classes\n",
    "categories = {0: 'paper', 1: 'cardboard', 2: 'plastic', 3: 'metal', 4: 'food', 5: 'battery',\n",
    "              6: 'shoes', 7: 'clothes', 8: 'glass',9: 'medical'}\n",
    "\n",
    "print('defining constants successful!')"
   ]
  },
  {
   "cell_type": "markdown",
   "id": "fdf6d5e6",
   "metadata": {
    "papermill": {
     "duration": 0.007316,
     "end_time": "2022-08-09T09:44:16.166031",
     "exception": false,
     "start_time": "2022-08-09T09:44:16.158715",
     "status": "completed"
    },
    "tags": []
   },
   "source": [
    "# Create DataFrame"
   ]
  },
  {
   "cell_type": "markdown",
   "id": "0121b7b6",
   "metadata": {
    "papermill": {
     "duration": 0.007491,
     "end_time": "2022-08-09T09:44:16.181251",
     "exception": false,
     "start_time": "2022-08-09T09:44:16.173760",
     "status": "completed"
    },
    "tags": []
   },
   "source": [
    "We want to create a data frame that has in one column the filenames of all our images and in the other column the corresponding category. \n",
    "We Open the directories in the dataset one by one, save the filenames in the filenames_list and add the corresponding category in the categories_list"
   ]
  },
  {
   "cell_type": "code",
   "execution_count": 3,
   "id": "a949c90e",
   "metadata": {
    "execution": {
     "iopub.execute_input": "2022-08-09T09:44:16.198825Z",
     "iopub.status.busy": "2022-08-09T09:44:16.198477Z",
     "iopub.status.idle": "2022-08-09T09:44:18.523534Z",
     "shell.execute_reply": "2022-08-09T09:44:18.521933Z"
    },
    "papermill": {
     "duration": 2.336751,
     "end_time": "2022-08-09T09:44:18.526590",
     "exception": false,
     "start_time": "2022-08-09T09:44:16.189839",
     "status": "completed"
    },
    "tags": []
   },
   "outputs": [
    {
     "name": "stdout",
     "output_type": "stream",
     "text": [
      "Number of Elements =  16059\n"
     ]
    }
   ],
   "source": [
    "# Add class name prefix to filename. So for example \"/paper104.jpg\" become \"paper/paper104.jpg\"\n",
    "def add_class_name_prefix(df, col_name):\n",
    "    df[col_name] = df[col_name].apply(lambda x: x[:re.search(\"\\d\",x).start()] + '/' + x)\n",
    "    return df\n",
    "\n",
    "# list conatining all the filenames in the dataset\n",
    "filenames_list = []\n",
    "# list to store the corresponding category, note that each folder of the dataset has one class of data\n",
    "categories_list = []\n",
    "\n",
    "for category in categories:\n",
    "    filenames = os.listdir(base_path + categories[category])\n",
    "    \n",
    "    filenames_list = filenames_list  +filenames\n",
    "    categories_list = categories_list + [category] * len(filenames)\n",
    "    \n",
    "df = pd.DataFrame({\n",
    "    'filename': filenames_list,\n",
    "    'category': categories_list\n",
    "})\n",
    "\n",
    "df = add_class_name_prefix(df, 'filename')\n",
    "\n",
    "# Shuffle the dataframe\n",
    "df = df.sample(frac=1).reset_index(drop=True)\n",
    "\n",
    "print('Number of Elements = ' , len(df))"
   ]
  },
  {
   "cell_type": "code",
   "execution_count": 4,
   "id": "803a0863",
   "metadata": {
    "execution": {
     "iopub.execute_input": "2022-08-09T09:44:18.541579Z",
     "iopub.status.busy": "2022-08-09T09:44:18.541291Z",
     "iopub.status.idle": "2022-08-09T09:44:18.554716Z",
     "shell.execute_reply": "2022-08-09T09:44:18.553714Z"
    },
    "papermill": {
     "duration": 0.022884,
     "end_time": "2022-08-09T09:44:18.556696",
     "exception": false,
     "start_time": "2022-08-09T09:44:18.533812",
     "status": "completed"
    },
    "tags": []
   },
   "outputs": [
    {
     "data": {
      "text/html": [
       "<div>\n",
       "<style scoped>\n",
       "    .dataframe tbody tr th:only-of-type {\n",
       "        vertical-align: middle;\n",
       "    }\n",
       "\n",
       "    .dataframe tbody tr th {\n",
       "        vertical-align: top;\n",
       "    }\n",
       "\n",
       "    .dataframe thead th {\n",
       "        text-align: right;\n",
       "    }\n",
       "</style>\n",
       "<table border=\"1\" class=\"dataframe\">\n",
       "  <thead>\n",
       "    <tr style=\"text-align: right;\">\n",
       "      <th></th>\n",
       "      <th>filename</th>\n",
       "      <th>category</th>\n",
       "    </tr>\n",
       "  </thead>\n",
       "  <tbody>\n",
       "    <tr>\n",
       "      <th>0</th>\n",
       "      <td>clothes/clothes2253.jpg</td>\n",
       "      <td>7</td>\n",
       "    </tr>\n",
       "    <tr>\n",
       "      <th>1</th>\n",
       "      <td>clothes/clothes3463.jpg</td>\n",
       "      <td>7</td>\n",
       "    </tr>\n",
       "    <tr>\n",
       "      <th>2</th>\n",
       "      <td>paper/paper416.jpg</td>\n",
       "      <td>0</td>\n",
       "    </tr>\n",
       "    <tr>\n",
       "      <th>3</th>\n",
       "      <td>glass/glass2754.jpg</td>\n",
       "      <td>8</td>\n",
       "    </tr>\n",
       "    <tr>\n",
       "      <th>4</th>\n",
       "      <td>plastic/plastic238.jpg</td>\n",
       "      <td>2</td>\n",
       "    </tr>\n",
       "    <tr>\n",
       "      <th>5</th>\n",
       "      <td>battery/battery205.jpg</td>\n",
       "      <td>5</td>\n",
       "    </tr>\n",
       "    <tr>\n",
       "      <th>6</th>\n",
       "      <td>plastic/plastic57.jpg</td>\n",
       "      <td>2</td>\n",
       "    </tr>\n",
       "    <tr>\n",
       "      <th>7</th>\n",
       "      <td>food/food480.jpg</td>\n",
       "      <td>4</td>\n",
       "    </tr>\n",
       "    <tr>\n",
       "      <th>8</th>\n",
       "      <td>shoes/shoes1661.jpg</td>\n",
       "      <td>6</td>\n",
       "    </tr>\n",
       "    <tr>\n",
       "      <th>9</th>\n",
       "      <td>glass/glass1238.jpg</td>\n",
       "      <td>8</td>\n",
       "    </tr>\n",
       "  </tbody>\n",
       "</table>\n",
       "</div>"
      ],
      "text/plain": [
       "                  filename  category\n",
       "0  clothes/clothes2253.jpg         7\n",
       "1  clothes/clothes3463.jpg         7\n",
       "2       paper/paper416.jpg         0\n",
       "3      glass/glass2754.jpg         8\n",
       "4   plastic/plastic238.jpg         2\n",
       "5   battery/battery205.jpg         5\n",
       "6    plastic/plastic57.jpg         2\n",
       "7         food/food480.jpg         4\n",
       "8      shoes/shoes1661.jpg         6\n",
       "9      glass/glass1238.jpg         8"
      ]
     },
     "execution_count": 4,
     "metadata": {},
     "output_type": "execute_result"
    }
   ],
   "source": [
    "df.head(10)"
   ]
  },
  {
   "cell_type": "code",
   "execution_count": 5,
   "id": "97f1163d",
   "metadata": {
    "execution": {
     "iopub.execute_input": "2022-08-09T09:44:18.571373Z",
     "iopub.status.busy": "2022-08-09T09:44:18.570610Z",
     "iopub.status.idle": "2022-08-09T09:44:18.810283Z",
     "shell.execute_reply": "2022-08-09T09:44:18.809331Z"
    },
    "papermill": {
     "duration": 0.249461,
     "end_time": "2022-08-09T09:44:18.812691",
     "exception": false,
     "start_time": "2022-08-09T09:44:18.563230",
     "status": "completed"
    },
    "tags": []
   },
   "outputs": [
    {
     "name": "stdout",
     "output_type": "stream",
     "text": [
      "shoes/shoes1241.jpg\n"
     ]
    },
    {
     "data": {
      "text/plain": [
       "<matplotlib.image.AxesImage at 0x7f0c0b50c8d0>"
      ]
     },
     "execution_count": 5,
     "metadata": {},
     "output_type": "execute_result"
    },
    {
     "data": {
      "image/png": "[encoded data removed]",
      "text/plain": [
       "<Figure size 432x288 with 1 Axes>"
      ]
     },
     "metadata": {
      "needs_background": "light"
     },
     "output_type": "display_data"
    }
   ],
   "source": [
    "# see sample image, you can run the same cell again to get a different image\n",
    "random_row = random.randint(0, len(df)-1)\n",
    "sample = df.iloc[random_row]\n",
    "randomimage = image.load_img(base_path +sample['filename'])\n",
    "print(sample['filename'])\n",
    "plt.imshow(randomimage)"
   ]
  },
  {
   "cell_type": "markdown",
   "id": "b6da1091",
   "metadata": {
    "papermill": {
     "duration": 0.007773,
     "end_time": "2022-08-09T09:44:18.828280",
     "exception": false,
     "start_time": "2022-08-09T09:44:18.820507",
     "status": "completed"
    },
    "tags": []
   },
   "source": [
    "# Viusalize the Categories Distribution"
   ]
  },
  {
   "cell_type": "code",
   "execution_count": 6,
   "id": "5be198b8",
   "metadata": {
    "execution": {
     "iopub.execute_input": "2022-08-09T09:44:18.845167Z",
     "iopub.status.busy": "2022-08-09T09:44:18.844874Z",
     "iopub.status.idle": "2022-08-09T09:44:19.071819Z",
     "shell.execute_reply": "2022-08-09T09:44:19.070915Z"
    },
    "papermill": {
     "duration": 0.238059,
     "end_time": "2022-08-09T09:44:19.073942",
     "exception": false,
     "start_time": "2022-08-09T09:44:18.835883",
     "status": "completed"
    },
    "tags": []
   },
   "outputs": [
    {
     "data": {
      "image/png": "[encoded data removed]",
      "text/plain": [
       "<Figure size 432x288 with 1 Axes>"
      ]
     },
     "metadata": {
      "needs_background": "light"
     },
     "output_type": "display_data"
    }
   ],
   "source": [
    "df_visualization = df.copy()\n",
    "# Change the catgegories from numbers to names\n",
    "df_visualization['category'] = df_visualization['category'].apply(lambda x:categories[x] )\n",
    "\n",
    "df_visualization['category'].value_counts().plot.bar(x = 'count', y = 'category' )\n",
    "\n",
    "plt.xlabel(\"Garbage Classes\", labelpad=14)\n",
    "plt.ylabel(\"Images Count\", labelpad=14)\n",
    "plt.title(\"Count of images per class\", y=1.02);"
   ]
  },
  {
   "cell_type": "markdown",
   "id": "266eb73d",
   "metadata": {
    "papermill": {
     "duration": 0.007821,
     "end_time": "2022-08-09T09:44:19.090192",
     "exception": false,
     "start_time": "2022-08-09T09:44:19.082371",
     "status": "completed"
    },
    "tags": []
   },
   "source": [
    "# Create the model"
   ]
  },
  {
   "cell_type": "markdown",
   "id": "a4b5023f",
   "metadata": {
    "papermill": {
     "duration": 0.00751,
     "end_time": "2022-08-09T09:44:19.105415",
     "exception": false,
     "start_time": "2022-08-09T09:44:19.097905",
     "status": "completed"
    },
    "tags": []
   },
   "source": [
    "The steps are:\n",
    "1. Create an mobilenetv2 model without the last layer and load the ImageNet pretrained weights\n",
    "2. Add a pre-processing layer\n",
    "3. Add a pooling layer followed by a SVM at the end"
   ]
  },
  {
   "cell_type": "code",
   "execution_count": 7,
   "id": "2de79502",
   "metadata": {
    "execution": {
     "iopub.execute_input": "2022-08-09T09:44:19.123874Z",
     "iopub.status.busy": "2022-08-09T09:44:19.122236Z",
     "iopub.status.idle": "2022-08-09T09:44:23.563940Z",
     "shell.execute_reply": "2022-08-09T09:44:23.560646Z"
    },
    "papermill": {
     "duration": 4.453793,
     "end_time": "2022-08-09T09:44:23.566946",
     "exception": false,
     "start_time": "2022-08-09T09:44:19.113153",
     "status": "completed"
    },
    "tags": []
   },
   "outputs": [
    {
     "name": "stderr",
     "output_type": "stream",
     "text": [
      "2022-08-09 09:44:19.216202: I tensorflow/stream_executor/cuda/cuda_gpu_executor.cc:937] successful NUMA node read from SysFS had negative value (-1), but there must be at least one NUMA node, so returning NUMA node zero\n",
      "2022-08-09 09:44:19.337676: I tensorflow/stream_executor/cuda/cuda_gpu_executor.cc:937] successful NUMA node read from SysFS had negative value (-1), but there must be at least one NUMA node, so returning NUMA node zero\n",
      "2022-08-09 09:44:19.338522: I tensorflow/stream_executor/cuda/cuda_gpu_executor.cc:937] successful NUMA node read from SysFS had negative value (-1), but there must be at least one NUMA node, so returning NUMA node zero\n",
      "2022-08-09 09:44:19.339886: I tensorflow/core/platform/cpu_feature_guard.cc:142] This TensorFlow binary is optimized with oneAPI Deep Neural Network Library (oneDNN) to use the following CPU instructions in performance-critical operations:  AVX2 AVX512F FMA\n",
      "To enable them in other operations, rebuild TensorFlow with the appropriate compiler flags.\n",
      "2022-08-09 09:44:19.340266: I tensorflow/stream_executor/cuda/cuda_gpu_executor.cc:937] successful NUMA node read from SysFS had negative value (-1), but there must be at least one NUMA node, so returning NUMA node zero\n",
      "2022-08-09 09:44:19.340966: I tensorflow/stream_executor/cuda/cuda_gpu_executor.cc:937] successful NUMA node read from SysFS had negative value (-1), but there must be at least one NUMA node, so returning NUMA node zero\n",
      "2022-08-09 09:44:19.341604: I tensorflow/stream_executor/cuda/cuda_gpu_executor.cc:937] successful NUMA node read from SysFS had negative value (-1), but there must be at least one NUMA node, so returning NUMA node zero\n",
      "2022-08-09 09:44:21.548972: I tensorflow/stream_executor/cuda/cuda_gpu_executor.cc:937] successful NUMA node read from SysFS had negative value (-1), but there must be at least one NUMA node, so returning NUMA node zero\n",
      "2022-08-09 09:44:21.549910: I tensorflow/stream_executor/cuda/cuda_gpu_executor.cc:937] successful NUMA node read from SysFS had negative value (-1), but there must be at least one NUMA node, so returning NUMA node zero\n",
      "2022-08-09 09:44:21.550633: I tensorflow/stream_executor/cuda/cuda_gpu_executor.cc:937] successful NUMA node read from SysFS had negative value (-1), but there must be at least one NUMA node, so returning NUMA node zero\n",
      "2022-08-09 09:44:21.551241: I tensorflow/core/common_runtime/gpu/gpu_device.cc:1510] Created device /job:localhost/replica:0/task:0/device:GPU:0 with 15403 MB memory:  -> device: 0, name: Tesla P100-PCIE-16GB, pci bus id: 0000:00:04.0, compute capability: 6.0\n"
     ]
    },
    {
     "name": "stdout",
     "output_type": "stream",
     "text": [
      "Model: \"sequential\"\n",
      "_________________________________________________________________\n",
      "Layer (type)                 Output Shape              Param #   \n",
      "=================================================================\n",
      "lambda (Lambda)              (None, 224, 224, 3)       0         \n",
      "_________________________________________________________________\n",
      "vgg16 (Functional)           (None, 7, 7, 512)         14714688  \n",
      "_________________________________________________________________\n",
      "global_average_pooling2d (Gl (None, 512)               0         \n",
      "_________________________________________________________________\n",
      "dense (Dense)                (None, 10)                5130      \n",
      "=================================================================\n",
      "Total params: 14,719,818\n",
      "Trainable params: 5,130\n",
      "Non-trainable params: 14,714,688\n",
      "_________________________________________________________________\n"
     ]
    }
   ],
   "source": [
    "from keras.models import Sequential\n",
    "from keras.layers import Conv2D, MaxPooling2D, Dropout, Flatten, Dense, Activation, BatchNormalization\n",
    "import keras.applications.vgg16 as vgg16\n",
    "from tensorflow.keras.regularizers import l2\n",
    "\n",
    "\n",
    "vgg16_layer = VGG16(include_top = False, input_shape = (IMAGE_WIDTH, IMAGE_HEIGHT,IMAGE_CHANNELS),weights=None)\n",
    "\n",
    "vgg16_layer.load_weights(\"../input/vgg16/vgg16_weights_tf_dim_ordering_tf_kernels_notop.h5\")\n",
    "# IF we don't want to train the imported weights\n",
    "vgg16_layer.trainable = False\n",
    "\n",
    "\n",
    "model = Sequential()\n",
    "model.add(keras.Input(shape=(IMAGE_WIDTH, IMAGE_HEIGHT, IMAGE_CHANNELS)))\n",
    "\n",
    "#create a custom layer to apply the preprocessing\n",
    "def vgg16_preprocessing(img):\n",
    "  return vgg16.preprocess_input(img)\n",
    "\n",
    "model.add(Lambda(vgg16_preprocessing))\n",
    "\n",
    "model.add(vgg16_layer)\n",
    "model.add(tf.keras.layers.GlobalAveragePooling2D())\n",
    "model.add(Dense(len(categories),kernel_regularizer=tf.keras.regularizers.l2(0.01),activation='softmax')) \n",
    "\n",
    "model.compile(loss='categorical_crossentropy', optimizer='adam', metrics=['categorical_accuracy'])\n",
    "\n",
    "model.summary()"
   ]
  },
  {
   "cell_type": "markdown",
   "id": "92729d5b",
   "metadata": {
    "papermill": {
     "duration": 0.016773,
     "end_time": "2022-08-09T09:44:23.600774",
     "exception": false,
     "start_time": "2022-08-09T09:44:23.584001",
     "status": "completed"
    },
    "tags": []
   },
   "source": [
    "We will use the EarlyStopping call back to stop our training if the validation_accuray is not improving for a certain number of epochs."
   ]
  },
  {
   "cell_type": "code",
   "execution_count": 8,
   "id": "d0ef133c",
   "metadata": {
    "execution": {
     "iopub.execute_input": "2022-08-09T09:44:23.632050Z",
     "iopub.status.busy": "2022-08-09T09:44:23.631686Z",
     "iopub.status.idle": "2022-08-09T09:44:23.638468Z",
     "shell.execute_reply": "2022-08-09T09:44:23.637348Z"
    },
    "papermill": {
     "duration": 0.027466,
     "end_time": "2022-08-09T09:44:23.643484",
     "exception": false,
     "start_time": "2022-08-09T09:44:23.616018",
     "status": "completed"
    },
    "tags": []
   },
   "outputs": [
    {
     "name": "stdout",
     "output_type": "stream",
     "text": [
      "Call Back Defined!\n"
     ]
    }
   ],
   "source": [
    "early_stop = EarlyStopping(patience = 5, verbose = 1, monitor='val_categorical_accuracy' , mode='max', min_delta=0.001, restore_best_weights = True)\n",
    "\n",
    "callbacks = [early_stop]\n",
    "\n",
    "print('Call Back Defined!')"
   ]
  },
  {
   "cell_type": "markdown",
   "id": "8561adb5",
   "metadata": {
    "papermill": {
     "duration": 0.014345,
     "end_time": "2022-08-09T09:44:23.672631",
     "exception": false,
     "start_time": "2022-08-09T09:44:23.658286",
     "status": "completed"
    },
    "tags": []
   },
   "source": [
    "# Split the Data Set"
   ]
  },
  {
   "cell_type": "markdown",
   "id": "a1ae8371",
   "metadata": {
    "papermill": {
     "duration": 0.013298,
     "end_time": "2022-08-09T09:44:23.699546",
     "exception": false,
     "start_time": "2022-08-09T09:44:23.686248",
     "status": "completed"
    },
    "tags": []
   },
   "source": [
    "We split the training set into three separate sets:\n",
    "\n",
    "1. **The training set:** used to train our model.\n",
    "1. **The validation set**: used to double check that our model is not overfitting the training set, i.e. it can also generalise to other data other than the train data\n",
    "1. **The Test set:** Used to estimate the accuracy of the model on new data other than the ones the model used for training\n",
    "For a competition  or for some other cases, you can split the data only to training and validation sets in order to achieve the highest  possible accuracy, without the need to properly estimate how accurate the model really is.\n",
    "\n",
    "We split the data set as follows: 80% train set, 10% cross_validation set, and 10% test set"
   ]
  },
  {
   "cell_type": "code",
   "execution_count": 9,
   "id": "9637c842",
   "metadata": {
    "execution": {
     "iopub.execute_input": "2022-08-09T09:44:23.728266Z",
     "iopub.status.busy": "2022-08-09T09:44:23.727984Z",
     "iopub.status.idle": "2022-08-09T09:44:23.746021Z",
     "shell.execute_reply": "2022-08-09T09:44:23.744934Z"
    },
    "papermill": {
     "duration": 0.034451,
     "end_time": "2022-08-09T09:44:23.747985",
     "exception": false,
     "start_time": "2022-08-09T09:44:23.713534",
     "status": "completed"
    },
    "tags": []
   },
   "outputs": [
    {
     "name": "stdout",
     "output_type": "stream",
     "text": [
      "train size =  1606 validate size =  1606 test size =  1606\n"
     ]
    }
   ],
   "source": [
    "#Change the categories from numbers to names\n",
    "df[\"category\"] = df[\"category\"].replace(categories) \n",
    "\n",
    "# We first split the data into two sets and then split the validate_df to two sets\n",
    "train_df, validate_df = train_test_split(df, test_size=0.2, random_state=42)\n",
    "validate_df, test_df = train_test_split(validate_df, test_size=0.5, random_state=42)\n",
    "\n",
    "train_df = train_df.reset_index(drop=True)\n",
    "validate_df = validate_df.reset_index(drop=True)\n",
    "test_df = test_df.reset_index(drop=True)\n",
    "\n",
    "total_train = train_df.shape[0]\n",
    "total_validate = validate_df.shape[0]\n",
    "\n",
    "print('train size = ', total_validate , 'validate size = ', total_validate, 'test size = ', test_df.shape[0])"
   ]
  },
  {
   "cell_type": "code",
   "execution_count": 10,
   "id": "931540d4",
   "metadata": {
    "execution": {
     "iopub.execute_input": "2022-08-09T09:44:23.773685Z",
     "iopub.status.busy": "2022-08-09T09:44:23.773422Z",
     "iopub.status.idle": "2022-08-09T09:44:23.784503Z",
     "shell.execute_reply": "2022-08-09T09:44:23.783631Z"
    },
    "papermill": {
     "duration": 0.026627,
     "end_time": "2022-08-09T09:44:23.786756",
     "exception": false,
     "start_time": "2022-08-09T09:44:23.760129",
     "status": "completed"
    },
    "tags": []
   },
   "outputs": [
    {
     "data": {
      "text/html": [
       "<div>\n",
       "<style scoped>\n",
       "    .dataframe tbody tr th:only-of-type {\n",
       "        vertical-align: middle;\n",
       "    }\n",
       "\n",
       "    .dataframe tbody tr th {\n",
       "        vertical-align: top;\n",
       "    }\n",
       "\n",
       "    .dataframe thead th {\n",
       "        text-align: right;\n",
       "    }\n",
       "</style>\n",
       "<table border=\"1\" class=\"dataframe\">\n",
       "  <thead>\n",
       "    <tr style=\"text-align: right;\">\n",
       "      <th></th>\n",
       "      <th>filename</th>\n",
       "      <th>category</th>\n",
       "    </tr>\n",
       "  </thead>\n",
       "  <tbody>\n",
       "    <tr>\n",
       "      <th>0</th>\n",
       "      <td>clothes/clothes3041.jpg</td>\n",
       "      <td>clothes</td>\n",
       "    </tr>\n",
       "    <tr>\n",
       "      <th>1</th>\n",
       "      <td>clothes/clothes629.jpg</td>\n",
       "      <td>clothes</td>\n",
       "    </tr>\n",
       "    <tr>\n",
       "      <th>2</th>\n",
       "      <td>medical/medical580.jpg</td>\n",
       "      <td>medical</td>\n",
       "    </tr>\n",
       "    <tr>\n",
       "      <th>3</th>\n",
       "      <td>glass/glass2936.jpg</td>\n",
       "      <td>glass</td>\n",
       "    </tr>\n",
       "    <tr>\n",
       "      <th>4</th>\n",
       "      <td>clothes/clothes2210.jpg</td>\n",
       "      <td>clothes</td>\n",
       "    </tr>\n",
       "    <tr>\n",
       "      <th>5</th>\n",
       "      <td>plastic/plastic217.jpg</td>\n",
       "      <td>plastic</td>\n",
       "    </tr>\n",
       "    <tr>\n",
       "      <th>6</th>\n",
       "      <td>clothes/clothes1194.jpg</td>\n",
       "      <td>clothes</td>\n",
       "    </tr>\n",
       "    <tr>\n",
       "      <th>7</th>\n",
       "      <td>battery/battery494.jpg</td>\n",
       "      <td>battery</td>\n",
       "    </tr>\n",
       "    <tr>\n",
       "      <th>8</th>\n",
       "      <td>clothes/clothes4954.jpg</td>\n",
       "      <td>clothes</td>\n",
       "    </tr>\n",
       "    <tr>\n",
       "      <th>9</th>\n",
       "      <td>clothes/clothes1677.jpg</td>\n",
       "      <td>clothes</td>\n",
       "    </tr>\n",
       "  </tbody>\n",
       "</table>\n",
       "</div>"
      ],
      "text/plain": [
       "                  filename category\n",
       "0  clothes/clothes3041.jpg  clothes\n",
       "1   clothes/clothes629.jpg  clothes\n",
       "2   medical/medical580.jpg  medical\n",
       "3      glass/glass2936.jpg    glass\n",
       "4  clothes/clothes2210.jpg  clothes\n",
       "5   plastic/plastic217.jpg  plastic\n",
       "6  clothes/clothes1194.jpg  clothes\n",
       "7   battery/battery494.jpg  battery\n",
       "8  clothes/clothes4954.jpg  clothes\n",
       "9  clothes/clothes1677.jpg  clothes"
      ]
     },
     "execution_count": 10,
     "metadata": {},
     "output_type": "execute_result"
    }
   ],
   "source": [
    "train_df.head(10)"
   ]
  },
  {
   "cell_type": "markdown",
   "id": "79129f44",
   "metadata": {
    "papermill": {
     "duration": 0.012544,
     "end_time": "2022-08-09T09:44:23.811709",
     "exception": false,
     "start_time": "2022-08-09T09:44:23.799165",
     "status": "completed"
    },
    "tags": []
   },
   "source": [
    "# Train the model"
   ]
  },
  {
   "cell_type": "markdown",
   "id": "01594f98",
   "metadata": {
    "papermill": {
     "duration": 0.012371,
     "end_time": "2022-08-09T09:44:23.837108",
     "exception": false,
     "start_time": "2022-08-09T09:44:23.824737",
     "status": "completed"
    },
    "tags": []
   },
   "source": [
    "We will first create the training data generator, that will get the images from the input data directory to train on them. We will also create a generator for the validation set.\n",
    "\n",
    "Applying Data Augmentation on the training set was taking too long to be executed and the initial results didn't show much improvement than the results without augmentation, so I commented the augmentation to make the training faster. However fell free to uncomment the Data Augmentation lines in the following cell and play a bit with it."
   ]
  },
  {
   "cell_type": "code",
   "execution_count": 11,
   "id": "5d78c49f",
   "metadata": {
    "execution": {
     "iopub.execute_input": "2022-08-09T09:44:23.863603Z",
     "iopub.status.busy": "2022-08-09T09:44:23.863333Z",
     "iopub.status.idle": "2022-08-09T09:44:38.551011Z",
     "shell.execute_reply": "2022-08-09T09:44:38.549249Z"
    },
    "papermill": {
     "duration": 14.704278,
     "end_time": "2022-08-09T09:44:38.553915",
     "exception": false,
     "start_time": "2022-08-09T09:44:23.849637",
     "status": "completed"
    },
    "tags": []
   },
   "outputs": [
    {
     "name": "stdout",
     "output_type": "stream",
     "text": [
      "Found 12847 validated image filenames belonging to 10 classes.\n"
     ]
    }
   ],
   "source": [
    "batch_size=64\n",
    "\n",
    "train_datagen = image.ImageDataGenerator()\n",
    "\n",
    "train_generator = train_datagen.flow_from_dataframe(\n",
    "    train_df, \n",
    "    base_path, \n",
    "    x_col='filename',\n",
    "    y_col='category',\n",
    "    target_size=IMAGE_SIZE,\n",
    "    class_mode='categorical',\n",
    "    batch_size=batch_size\n",
    ")"
   ]
  },
  {
   "cell_type": "code",
   "execution_count": 12,
   "id": "07a102a0",
   "metadata": {
    "execution": {
     "iopub.execute_input": "2022-08-09T09:44:38.573918Z",
     "iopub.status.busy": "2022-08-09T09:44:38.573313Z",
     "iopub.status.idle": "2022-08-09T09:44:40.297181Z",
     "shell.execute_reply": "2022-08-09T09:44:40.295934Z"
    },
    "papermill": {
     "duration": 1.736262,
     "end_time": "2022-08-09T09:44:40.299361",
     "exception": false,
     "start_time": "2022-08-09T09:44:38.563099",
     "status": "completed"
    },
    "tags": []
   },
   "outputs": [
    {
     "name": "stdout",
     "output_type": "stream",
     "text": [
      "Found 1606 validated image filenames belonging to 10 classes.\n"
     ]
    }
   ],
   "source": [
    "validation_datagen = image.ImageDataGenerator()\n",
    "\n",
    "validation_generator = validation_datagen.flow_from_dataframe(\n",
    "    validate_df, \n",
    "    base_path, \n",
    "    x_col='filename',\n",
    "    y_col='category',\n",
    "    target_size=IMAGE_SIZE,\n",
    "    class_mode='categorical',\n",
    "    batch_size=batch_size\n",
    ")"
   ]
  },
  {
   "cell_type": "code",
   "execution_count": 13,
   "id": "dd86436e",
   "metadata": {
    "execution": {
     "iopub.execute_input": "2022-08-09T09:44:40.319337Z",
     "iopub.status.busy": "2022-08-09T09:44:40.318703Z",
     "iopub.status.idle": "2022-08-09T10:04:53.225265Z",
     "shell.execute_reply": "2022-08-09T10:04:53.224064Z"
    },
    "papermill": {
     "duration": 1212.9193,
     "end_time": "2022-08-09T10:04:53.227933",
     "exception": false,
     "start_time": "2022-08-09T09:44:40.308633",
     "status": "completed"
    },
    "tags": []
   },
   "outputs": [
    {
     "name": "stderr",
     "output_type": "stream",
     "text": [
      "/opt/conda/lib/python3.7/site-packages/keras/engine/training.py:1972: UserWarning: `Model.fit_generator` is deprecated and will be removed in a future version. Please use `Model.fit`, which supports generators.\n",
      "  warnings.warn('`Model.fit_generator` is deprecated and '\n",
      "2022-08-09 09:44:40.931454: I tensorflow/compiler/mlir/mlir_graph_optimization_pass.cc:185] None of the MLIR Optimization Passes are enabled (registered 2)\n"
     ]
    },
    {
     "name": "stdout",
     "output_type": "stream",
     "text": [
      "Epoch 1/100\n"
     ]
    },
    {
     "name": "stderr",
     "output_type": "stream",
     "text": [
      "2022-08-09 09:44:42.974986: I tensorflow/stream_executor/cuda/cuda_dnn.cc:369] Loaded cuDNN version 8005\n"
     ]
    },
    {
     "name": "stdout",
     "output_type": "stream",
     "text": [
      "200/200 [==============================] - 130s 591ms/step - loss: 1.6841 - categorical_accuracy: 0.7237 - val_loss: 0.7411 - val_categorical_accuracy: 0.8644\n",
      "Epoch 2/100\n",
      "200/200 [==============================] - 62s 308ms/step - loss: 0.5874 - categorical_accuracy: 0.8841 - val_loss: 0.5357 - val_categorical_accuracy: 0.9006\n",
      "Epoch 3/100\n",
      "200/200 [==============================] - 63s 314ms/step - loss: 0.4249 - categorical_accuracy: 0.9170 - val_loss: 0.4480 - val_categorical_accuracy: 0.9175\n",
      "Epoch 4/100\n",
      "200/200 [==============================] - 64s 319ms/step - loss: 0.3381 - categorical_accuracy: 0.9337 - val_loss: 0.4136 - val_categorical_accuracy: 0.9256\n",
      "Epoch 5/100\n",
      "200/200 [==============================] - 62s 310ms/step - loss: 0.2920 - categorical_accuracy: 0.9409 - val_loss: 0.3803 - val_categorical_accuracy: 0.9325\n",
      "Epoch 6/100\n",
      "200/200 [==============================] - 61s 304ms/step - loss: 0.2484 - categorical_accuracy: 0.9516 - val_loss: 0.3372 - val_categorical_accuracy: 0.9356\n",
      "Epoch 7/100\n",
      "200/200 [==============================] - 63s 315ms/step - loss: 0.2226 - categorical_accuracy: 0.9563 - val_loss: 0.3131 - val_categorical_accuracy: 0.9419\n",
      "Epoch 8/100\n",
      "200/200 [==============================] - 62s 309ms/step - loss: 0.2028 - categorical_accuracy: 0.9604 - val_loss: 0.3091 - val_categorical_accuracy: 0.9356\n",
      "Epoch 9/100\n",
      "200/200 [==============================] - 62s 311ms/step - loss: 0.1897 - categorical_accuracy: 0.9649 - val_loss: 0.2803 - val_categorical_accuracy: 0.9388\n",
      "Epoch 10/100\n",
      "200/200 [==============================] - 57s 282ms/step - loss: 0.1827 - categorical_accuracy: 0.9647 - val_loss: 0.2677 - val_categorical_accuracy: 0.9425\n",
      "Epoch 11/100\n",
      "200/200 [==============================] - 63s 312ms/step - loss: 0.1762 - categorical_accuracy: 0.9653 - val_loss: 0.2682 - val_categorical_accuracy: 0.9438\n",
      "Epoch 12/100\n",
      "200/200 [==============================] - 62s 309ms/step - loss: 0.1710 - categorical_accuracy: 0.9651 - val_loss: 0.2580 - val_categorical_accuracy: 0.9375\n",
      "Epoch 13/100\n",
      "200/200 [==============================] - 62s 307ms/step - loss: 0.1718 - categorical_accuracy: 0.9660 - val_loss: 0.2603 - val_categorical_accuracy: 0.9388\n",
      "Epoch 14/100\n",
      "200/200 [==============================] - 62s 307ms/step - loss: 0.1662 - categorical_accuracy: 0.9654 - val_loss: 0.2838 - val_categorical_accuracy: 0.9350\n",
      "Epoch 15/100\n",
      "200/200 [==============================] - 64s 320ms/step - loss: 0.1607 - categorical_accuracy: 0.9674 - val_loss: 0.2533 - val_categorical_accuracy: 0.9375\n",
      "Epoch 16/100\n",
      "200/200 [==============================] - 64s 317ms/step - loss: 0.1620 - categorical_accuracy: 0.9695 - val_loss: 0.2497 - val_categorical_accuracy: 0.9400\n",
      "Restoring model weights from the end of the best epoch.\n",
      "Epoch 00016: early stopping\n"
     ]
    }
   ],
   "source": [
    "EPOCHS = 100\n",
    "history = model.fit_generator(\n",
    "    train_generator, \n",
    "    epochs=EPOCHS,\n",
    "    validation_data=validation_generator,\n",
    "    validation_steps=total_validate//batch_size,\n",
    "    steps_per_epoch=total_train//batch_size,\n",
    "    callbacks=callbacks\n",
    ")"
   ]
  },
  {
   "cell_type": "code",
   "execution_count": 14,
   "id": "a4dea496",
   "metadata": {
    "execution": {
     "iopub.execute_input": "2022-08-09T10:04:53.583775Z",
     "iopub.status.busy": "2022-08-09T10:04:53.582766Z",
     "iopub.status.idle": "2022-08-09T10:04:53.683827Z",
     "shell.execute_reply": "2022-08-09T10:04:53.682701Z"
    },
    "papermill": {
     "duration": 0.283043,
     "end_time": "2022-08-09T10:04:53.686503",
     "exception": false,
     "start_time": "2022-08-09T10:04:53.403460",
     "status": "completed"
    },
    "tags": []
   },
   "outputs": [],
   "source": [
    "model.save_weights(\"model86.h5\")"
   ]
  },
  {
   "cell_type": "code",
   "execution_count": 15,
   "id": "d4bc5a1b",
   "metadata": {
    "execution": {
     "iopub.execute_input": "2022-08-09T10:04:54.039039Z",
     "iopub.status.busy": "2022-08-09T10:04:54.037954Z",
     "iopub.status.idle": "2022-08-09T10:04:54.159458Z",
     "shell.execute_reply": "2022-08-09T10:04:54.158457Z"
    },
    "papermill": {
     "duration": 0.303126,
     "end_time": "2022-08-09T10:04:54.162170",
     "exception": false,
     "start_time": "2022-08-09T10:04:53.859044",
     "status": "completed"
    },
    "tags": []
   },
   "outputs": [],
   "source": [
    "model.save(\"model9200.h5\")"
   ]
  },
  {
   "cell_type": "markdown",
   "id": "ab691204",
   "metadata": {
    "papermill": {
     "duration": 0.234656,
     "end_time": "2022-08-09T10:04:54.571207",
     "exception": false,
     "start_time": "2022-08-09T10:04:54.336551",
     "status": "completed"
    },
    "tags": []
   },
   "source": [
    "# Visualize the training process\n"
   ]
  },
  {
   "cell_type": "code",
   "execution_count": 16,
   "id": "136c5f1c",
   "metadata": {
    "execution": {
     "iopub.execute_input": "2022-08-09T10:04:54.928005Z",
     "iopub.status.busy": "2022-08-09T10:04:54.927615Z",
     "iopub.status.idle": "2022-08-09T10:04:55.260808Z",
     "shell.execute_reply": "2022-08-09T10:04:55.259801Z"
    },
    "papermill": {
     "duration": 0.515284,
     "end_time": "2022-08-09T10:04:55.263046",
     "exception": false,
     "start_time": "2022-08-09T10:04:54.747762",
     "status": "completed"
    },
    "tags": []
   },
   "outputs": [
    {
     "data": {
      "image/png": "[encoded data removed]",
      "text/plain": [
       "<Figure size 432x288 with 2 Axes>"
      ]
     },
     "metadata": {
      "needs_background": "light"
     },
     "output_type": "display_data"
    }
   ],
   "source": [
    "fig, (ax1, ax2) = plt.subplots(2, 1)\n",
    "ax1.plot(history.history['loss'], color='blue', label=\"Training loss\")\n",
    "ax1.plot(history.history['val_loss'], color='red', label=\"Validation loss\")\n",
    "ax1.set_yticks(np.arange(0, 0.7, 0.1))\n",
    "ax1.legend()\n",
    "\n",
    "ax2.plot(history.history['categorical_accuracy'], color='b', label=\"Training accuracy\")\n",
    "ax2.plot(history.history['val_categorical_accuracy'], color='r',label=\"Validation accuracy\")\n",
    "ax2.legend()\n",
    "\n",
    "legend = plt.legend(loc='best')\n",
    "plt.tight_layout()\n",
    "plt.show()"
   ]
  },
  {
   "cell_type": "markdown",
   "id": "2662c9e6",
   "metadata": {
    "papermill": {
     "duration": 0.318348,
     "end_time": "2022-08-09T10:04:55.806928",
     "exception": false,
     "start_time": "2022-08-09T10:04:55.488580",
     "status": "completed"
    },
    "tags": []
   },
   "source": [
    "# Evaluate the test"
   ]
  },
  {
   "cell_type": "markdown",
   "id": "5dad7d0d",
   "metadata": {
    "papermill": {
     "duration": 0.175487,
     "end_time": "2022-08-09T10:04:56.228540",
     "exception": false,
     "start_time": "2022-08-09T10:04:56.053053",
     "status": "completed"
    },
    "tags": []
   },
   "source": [
    "To evaluate the performance of our model we will create a test generator to load the images from the input data directory and evaluate the results."
   ]
  },
  {
   "cell_type": "code",
   "execution_count": 17,
   "id": "c4c45979",
   "metadata": {
    "execution": {
     "iopub.execute_input": "2022-08-09T10:04:56.583999Z",
     "iopub.status.busy": "2022-08-09T10:04:56.583619Z",
     "iopub.status.idle": "2022-08-09T10:04:58.716625Z",
     "shell.execute_reply": "2022-08-09T10:04:58.715259Z"
    },
    "papermill": {
     "duration": 2.314948,
     "end_time": "2022-08-09T10:04:58.718683",
     "exception": false,
     "start_time": "2022-08-09T10:04:56.403735",
     "status": "completed"
    },
    "tags": []
   },
   "outputs": [
    {
     "name": "stdout",
     "output_type": "stream",
     "text": [
      "Found 1606 validated image filenames belonging to 10 classes.\n"
     ]
    }
   ],
   "source": [
    "test_datagen = image.ImageDataGenerator()\n",
    "\n",
    "test_generator = test_datagen.flow_from_dataframe(\n",
    "    dataframe= test_df,\n",
    "    directory=base_path,\n",
    "    x_col='filename',\n",
    "    y_col='category',\n",
    "    target_size=IMAGE_SIZE,\n",
    "    color_mode=\"rgb\",\n",
    "    class_mode=\"categorical\",\n",
    "    batch_size=1,\n",
    "    shuffle=False \n",
    ")"
   ]
  },
  {
   "cell_type": "code",
   "execution_count": 18,
   "id": "ee26d65e",
   "metadata": {
    "execution": {
     "iopub.execute_input": "2022-08-09T10:04:59.077131Z",
     "iopub.status.busy": "2022-08-09T10:04:59.076529Z",
     "iopub.status.idle": "2022-08-09T10:05:13.321429Z",
     "shell.execute_reply": "2022-08-09T10:05:13.320410Z"
    },
    "papermill": {
     "duration": 14.424433,
     "end_time": "2022-08-09T10:05:13.323981",
     "exception": false,
     "start_time": "2022-08-09T10:04:58.899548",
     "status": "completed"
    },
    "tags": []
   },
   "outputs": [
    {
     "name": "stderr",
     "output_type": "stream",
     "text": [
      "/opt/conda/lib/python3.7/site-packages/keras/engine/training.py:2006: UserWarning: `Model.evaluate_generator` is deprecated and will be removed in a future version. Please use `Model.evaluate`, which supports generators.\n",
      "  warnings.warn('`Model.evaluate_generator` is deprecated and '\n"
     ]
    },
    {
     "name": "stdout",
     "output_type": "stream",
     "text": [
      "Accuracy on test set =  93.15 % \n"
     ]
    }
   ],
   "source": [
    "filenames = test_generator.filenames\n",
    "nb_samples = len(filenames)\n",
    "\n",
    "_, accuracy = model.evaluate_generator(test_generator, nb_samples)\n",
    "\n",
    "print('Accuracy on test set = ',  round((accuracy * 100),2 ), '% ') "
   ]
  },
  {
   "cell_type": "code",
   "execution_count": 19,
   "id": "e1bbbb3c",
   "metadata": {
    "execution": {
     "iopub.execute_input": "2022-08-09T10:05:13.676615Z",
     "iopub.status.busy": "2022-08-09T10:05:13.676259Z",
     "iopub.status.idle": "2022-08-09T10:05:13.682423Z",
     "shell.execute_reply": "2022-08-09T10:05:13.681358Z"
    },
    "papermill": {
     "duration": 0.186965,
     "end_time": "2022-08-09T10:05:13.686418",
     "exception": false,
     "start_time": "2022-08-09T10:05:13.499453",
     "status": "completed"
    },
    "tags": []
   },
   "outputs": [
    {
     "name": "stdout",
     "output_type": "stream",
     "text": [
      "{0: 'battery', 1: 'cardboard', 2: 'clothes', 3: 'food', 4: 'glass', 5: 'medical', 6: 'metal', 7: 'paper', 8: 'plastic', 9: 'shoes'}\n"
     ]
    }
   ],
   "source": [
    "# We defined at the beginning of this notebook a dictionary that maps the categories number to names, but the train generator\n",
    "# generated it's own dictionary and it has assigned different numbers to our categories and the predictions made by the model \n",
    "# will be made using the genrator's dictionary.\n",
    "\n",
    "gen_label_map = test_generator.class_indices\n",
    "gen_label_map = dict((v,k) for k,v in gen_label_map.items())\n",
    "print(gen_label_map)"
   ]
  },
  {
   "cell_type": "code",
   "execution_count": 20,
   "id": "49683fb1",
   "metadata": {
    "execution": {
     "iopub.execute_input": "2022-08-09T10:05:14.041579Z",
     "iopub.status.busy": "2022-08-09T10:05:14.041228Z",
     "iopub.status.idle": "2022-08-09T10:05:22.890287Z",
     "shell.execute_reply": "2022-08-09T10:05:22.888927Z"
    },
    "papermill": {
     "duration": 9.031458,
     "end_time": "2022-08-09T10:05:22.892387",
     "exception": false,
     "start_time": "2022-08-09T10:05:13.860929",
     "status": "completed"
    },
    "tags": []
   },
   "outputs": [
    {
     "name": "stderr",
     "output_type": "stream",
     "text": [
      "/opt/conda/lib/python3.7/site-packages/keras/engine/training.py:2035: UserWarning: `Model.predict_generator` is deprecated and will be removed in a future version. Please use `Model.predict`, which supports generators.\n",
      "  warnings.warn('`Model.predict_generator` is deprecated and '\n"
     ]
    },
    {
     "name": "stdout",
     "output_type": "stream",
     "text": [
      "              precision    recall  f1-score   support\n",
      "\n",
      "     battery       0.99      0.93      0.96        90\n",
      "   cardboard       0.91      0.92      0.92        89\n",
      "     clothes       0.99      0.98      0.98       533\n",
      "        food       0.99      0.93      0.96        98\n",
      "       glass       0.94      0.89      0.91       245\n",
      "     medical       0.88      0.94      0.91        72\n",
      "       metal       0.70      0.88      0.78        72\n",
      "       paper       0.89      0.89      0.89        98\n",
      "     plastic       0.77      0.74      0.75        93\n",
      "       shoes       0.94      0.99      0.96       216\n",
      "\n",
      "    accuracy                           0.93      1606\n",
      "   macro avg       0.90      0.91      0.90      1606\n",
      "weighted avg       0.93      0.93      0.93      1606\n",
      "\n"
     ]
    }
   ],
   "source": [
    "# get the model's predictions for the test set\n",
    "preds = model.predict_generator(test_generator, nb_samples)\n",
    "\n",
    "# Get the category with the highest predicted probability, the prediction is only the category's number and not name\n",
    "preds = preds.argmax(1)\n",
    "\n",
    "# Convert the predicted category's number to name \n",
    "preds = [gen_label_map[item] for item in preds]\n",
    "\n",
    "# Convert the pandas dataframe to a numpy matrix\n",
    "labels = test_df['category'].to_numpy()\n",
    "\n",
    "print(classification_report(labels, preds))"
   ]
  },
  {
   "cell_type": "code",
   "execution_count": null,
   "id": "863ae35a",
   "metadata": {
    "papermill": {
     "duration": 0.173824,
     "end_time": "2022-08-09T10:05:23.296895",
     "exception": false,
     "start_time": "2022-08-09T10:05:23.123071",
     "status": "completed"
    },
    "tags": []
   },
   "outputs": [],
   "source": []
  }
 ],
 "metadata": {
  "kernelspec": {
   "display_name": "Python 3",
   "language": "python",
   "name": "python3"
  },
  "language_info": {
   "codemirror_mode": {
    "name": "ipython",
    "version": 3
   },
   "file_extension": ".py",
   "mimetype": "text/x-python",
   "name": "python",
   "nbconvert_exporter": "python",
   "pygments_lexer": "ipython3",
   "version": "3.7.12"
  },
  "papermill": {
   "default_parameters": {},
   "duration": 1285.015407,
   "end_time": "2022-08-09T10:05:27.037960",
   "environment_variables": {},
   "exception": null,
   "input_path": "__notebook__.ipynb",
   "output_path": "__notebook__.ipynb",
   "parameters": {},
   "start_time": "2022-08-09T09:44:02.022553",
   "version": "2.3.4"
  }
 },
 "nbformat": 4,
 "nbformat_minor": 5
}
