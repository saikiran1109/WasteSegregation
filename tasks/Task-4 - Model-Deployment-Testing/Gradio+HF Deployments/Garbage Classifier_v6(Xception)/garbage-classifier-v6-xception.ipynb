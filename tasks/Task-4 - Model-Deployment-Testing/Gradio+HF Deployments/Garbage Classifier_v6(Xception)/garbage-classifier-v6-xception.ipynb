{
 "cells": [
  {
   "cell_type": "markdown",
   "id": "d48c2c3a",
   "metadata": {
    "_cell_guid": "b1076dfc-b9ad-4769-8c92-a6c4dae69d19",
    "_uuid": "8f2839f25d086af736a60e9eeb907d3b93b6e0e5",
    "papermill": {
     "duration": 0.010606,
     "end_time": "2022-08-07T04:40:30.798201",
     "exception": false,
     "start_time": "2022-08-07T04:40:30.787595",
     "status": "completed"
    },
    "tags": []
   },
   "source": [
    "# Garbage Classification using keras and transfer learning"
   ]
  },
  {
   "cell_type": "markdown",
   "id": "4537bd21",
   "metadata": {
    "papermill": {
     "duration": 0.006036,
     "end_time": "2022-08-07T04:40:30.810742",
     "exception": false,
     "start_time": "2022-08-07T04:40:30.804706",
     "status": "completed"
    },
    "tags": []
   },
   "source": [
    "# Import Required Libraries"
   ]
  },
  {
   "cell_type": "code",
   "execution_count": 1,
   "id": "963ba612",
   "metadata": {
    "execution": {
     "iopub.execute_input": "2022-08-07T04:40:30.825601Z",
     "iopub.status.busy": "2022-08-07T04:40:30.824792Z",
     "iopub.status.idle": "2022-08-07T04:40:37.020168Z",
     "shell.execute_reply": "2022-08-07T04:40:37.018611Z"
    },
    "papermill": {
     "duration": 6.206127,
     "end_time": "2022-08-07T04:40:37.023099",
     "exception": false,
     "start_time": "2022-08-07T04:40:30.816972",
     "status": "completed"
    },
    "tags": []
   },
   "outputs": [
    {
     "name": "stdout",
     "output_type": "stream",
     "text": [
      "setup successful!\n"
     ]
    }
   ],
   "source": [
    "import numpy as np\n",
    "import pandas as pd \n",
    "import random\n",
    "import os\n",
    "import matplotlib.pyplot as plt\n",
    "import seaborn as sns\n",
    "import keras.applications.xception as xception\n",
    "import zipfile\n",
    "import sys\n",
    "import time\n",
    "import tensorflow.keras as keras\n",
    "import tensorflow as tf\n",
    "import re\n",
    "\n",
    "from PIL import Image\n",
    "from keras.layers import Input, Conv2D, Dense, Flatten, MaxPooling2D, Input, GlobalAveragePooling2D\n",
    "from tensorflow.keras.layers.experimental.preprocessing import Normalization\n",
    "from keras.models import Model, Sequential\n",
    "from keras.preprocessing import image\n",
    "from tensorflow.keras.utils import to_categorical\n",
    "from keras.layers import Lambda\n",
    "from keras.callbacks import EarlyStopping\n",
    "from sklearn.model_selection import train_test_split\n",
    "from sklearn.metrics import classification_report\n",
    "\n",
    "print('setup successful!')"
   ]
  },
  {
   "cell_type": "markdown",
   "id": "f5848bfa",
   "metadata": {
    "papermill": {
     "duration": 0.006251,
     "end_time": "2022-08-07T04:40:37.036603",
     "exception": false,
     "start_time": "2022-08-07T04:40:37.030352",
     "status": "completed"
    },
    "tags": []
   },
   "source": [
    "# Define Constants"
   ]
  },
  {
   "cell_type": "code",
   "execution_count": 2,
   "id": "65c55573",
   "metadata": {
    "execution": {
     "iopub.execute_input": "2022-08-07T04:40:37.050808Z",
     "iopub.status.busy": "2022-08-07T04:40:37.050294Z",
     "iopub.status.idle": "2022-08-07T04:40:37.056613Z",
     "shell.execute_reply": "2022-08-07T04:40:37.055692Z"
    },
    "papermill": {
     "duration": 0.01615,
     "end_time": "2022-08-07T04:40:37.059215",
     "exception": false,
     "start_time": "2022-08-07T04:40:37.043065",
     "status": "completed"
    },
    "tags": []
   },
   "outputs": [
    {
     "name": "stdout",
     "output_type": "stream",
     "text": [
      "defining constants successful!\n"
     ]
    }
   ],
   "source": [
    "# Increasing the image size didn't result in increasing the training accuracy\n",
    "IMAGE_WIDTH = 320    \n",
    "IMAGE_HEIGHT = 320\n",
    "IMAGE_SIZE=(IMAGE_WIDTH, IMAGE_HEIGHT)\n",
    "IMAGE_CHANNELS = 3\n",
    "\n",
    "\n",
    "# Path where our data is located\n",
    "base_path = \"../input/garbage-seg-10-v4/Garbage Seg 10 V4/\"\n",
    "\n",
    "# Dictionary to save our 12 classes\n",
    "categories = {0: 'paper', 1: 'cardboard', 2: 'plastic', 3: 'metal', 4: 'food', 5: 'battery',\n",
    "              6: 'shoes', 7: 'clothes', 8: 'glass',9: 'medical'}\n",
    "\n",
    "print('defining constants successful!')"
   ]
  },
  {
   "cell_type": "markdown",
   "id": "8c222e74",
   "metadata": {
    "papermill": {
     "duration": 0.006102,
     "end_time": "2022-08-07T04:40:37.071657",
     "exception": false,
     "start_time": "2022-08-07T04:40:37.065555",
     "status": "completed"
    },
    "tags": []
   },
   "source": [
    "# Create DataFrame"
   ]
  },
  {
   "cell_type": "markdown",
   "id": "c5eb5dca",
   "metadata": {
    "papermill": {
     "duration": 0.006238,
     "end_time": "2022-08-07T04:40:37.084256",
     "exception": false,
     "start_time": "2022-08-07T04:40:37.078018",
     "status": "completed"
    },
    "tags": []
   },
   "source": [
    "We want to create a data frame that has in one column the filenames of all our images and in the other column the corresponding category. \n",
    "We Open the directories in the dataset one by one, save the filenames in the filenames_list and add the corresponding category in the categories_list"
   ]
  },
  {
   "cell_type": "code",
   "execution_count": 3,
   "id": "1c92305c",
   "metadata": {
    "execution": {
     "iopub.execute_input": "2022-08-07T04:40:37.099323Z",
     "iopub.status.busy": "2022-08-07T04:40:37.098545Z",
     "iopub.status.idle": "2022-08-07T04:40:38.191398Z",
     "shell.execute_reply": "2022-08-07T04:40:38.189897Z"
    },
    "papermill": {
     "duration": 1.103048,
     "end_time": "2022-08-07T04:40:38.194480",
     "exception": false,
     "start_time": "2022-08-07T04:40:37.091432",
     "status": "completed"
    },
    "tags": []
   },
   "outputs": [
    {
     "name": "stdout",
     "output_type": "stream",
     "text": [
      "number of elements =  14511\n"
     ]
    }
   ],
   "source": [
    "# Add class name prefix to filename. So for example \"/paper104.jpg\" become \"paper/paper104.jpg\"\n",
    "def add_class_name_prefix(df, col_name):\n",
    "    df[col_name] = df[col_name].apply(lambda x: x[:re.search(\"\\d\",x).start()] + '/' + x)\n",
    "    return df\n",
    "\n",
    "# list conatining all the filenames in the dataset\n",
    "filenames_list = []\n",
    "# list to store the corresponding category, note that each folder of the dataset has one class of data\n",
    "categories_list = []\n",
    "\n",
    "for category in categories:\n",
    "    filenames = os.listdir(base_path + categories[category])\n",
    "    \n",
    "    filenames_list = filenames_list  +filenames\n",
    "    categories_list = categories_list + [category] * len(filenames)\n",
    "    \n",
    "df = pd.DataFrame({\n",
    "    'filename': filenames_list,\n",
    "    'category': categories_list\n",
    "})\n",
    "\n",
    "df = add_class_name_prefix(df, 'filename')\n",
    "\n",
    "# Shuffle the dataframe\n",
    "df = df.sample(frac=1).reset_index(drop=True)\n",
    "\n",
    "print('number of elements = ' , len(df))"
   ]
  },
  {
   "cell_type": "code",
   "execution_count": 4,
   "id": "c4933926",
   "metadata": {
    "execution": {
     "iopub.execute_input": "2022-08-07T04:40:38.209540Z",
     "iopub.status.busy": "2022-08-07T04:40:38.209257Z",
     "iopub.status.idle": "2022-08-07T04:40:38.223362Z",
     "shell.execute_reply": "2022-08-07T04:40:38.222340Z"
    },
    "papermill": {
     "duration": 0.024318,
     "end_time": "2022-08-07T04:40:38.225835",
     "exception": false,
     "start_time": "2022-08-07T04:40:38.201517",
     "status": "completed"
    },
    "tags": []
   },
   "outputs": [
    {
     "data": {
      "text/html": [
       "<div>\n",
       "<style scoped>\n",
       "    .dataframe tbody tr th:only-of-type {\n",
       "        vertical-align: middle;\n",
       "    }\n",
       "\n",
       "    .dataframe tbody tr th {\n",
       "        vertical-align: top;\n",
       "    }\n",
       "\n",
       "    .dataframe thead th {\n",
       "        text-align: right;\n",
       "    }\n",
       "</style>\n",
       "<table border=\"1\" class=\"dataframe\">\n",
       "  <thead>\n",
       "    <tr style=\"text-align: right;\">\n",
       "      <th></th>\n",
       "      <th>filename</th>\n",
       "      <th>category</th>\n",
       "    </tr>\n",
       "  </thead>\n",
       "  <tbody>\n",
       "    <tr>\n",
       "      <th>0</th>\n",
       "      <td>plastic/plastic82.jpg</td>\n",
       "      <td>2</td>\n",
       "    </tr>\n",
       "    <tr>\n",
       "      <th>1</th>\n",
       "      <td>clothes/clothes3690.jpg</td>\n",
       "      <td>7</td>\n",
       "    </tr>\n",
       "    <tr>\n",
       "      <th>2</th>\n",
       "      <td>paper/paper642.jpg</td>\n",
       "      <td>0</td>\n",
       "    </tr>\n",
       "    <tr>\n",
       "      <th>3</th>\n",
       "      <td>clothes/clothes4817.jpg</td>\n",
       "      <td>7</td>\n",
       "    </tr>\n",
       "    <tr>\n",
       "      <th>4</th>\n",
       "      <td>paper/paper1030.jpg</td>\n",
       "      <td>0</td>\n",
       "    </tr>\n",
       "    <tr>\n",
       "      <th>5</th>\n",
       "      <td>glass/glass520.jpg</td>\n",
       "      <td>8</td>\n",
       "    </tr>\n",
       "    <tr>\n",
       "      <th>6</th>\n",
       "      <td>clothes/clothes3455.jpg</td>\n",
       "      <td>7</td>\n",
       "    </tr>\n",
       "    <tr>\n",
       "      <th>7</th>\n",
       "      <td>cardboard/cardboard750.jpg</td>\n",
       "      <td>1</td>\n",
       "    </tr>\n",
       "    <tr>\n",
       "      <th>8</th>\n",
       "      <td>clothes/clothes4732.jpg</td>\n",
       "      <td>7</td>\n",
       "    </tr>\n",
       "    <tr>\n",
       "      <th>9</th>\n",
       "      <td>shoes/shoes1949.jpg</td>\n",
       "      <td>6</td>\n",
       "    </tr>\n",
       "  </tbody>\n",
       "</table>\n",
       "</div>"
      ],
      "text/plain": [
       "                     filename  category\n",
       "0       plastic/plastic82.jpg         2\n",
       "1     clothes/clothes3690.jpg         7\n",
       "2          paper/paper642.jpg         0\n",
       "3     clothes/clothes4817.jpg         7\n",
       "4         paper/paper1030.jpg         0\n",
       "5          glass/glass520.jpg         8\n",
       "6     clothes/clothes3455.jpg         7\n",
       "7  cardboard/cardboard750.jpg         1\n",
       "8     clothes/clothes4732.jpg         7\n",
       "9         shoes/shoes1949.jpg         6"
      ]
     },
     "execution_count": 4,
     "metadata": {},
     "output_type": "execute_result"
    }
   ],
   "source": [
    "df.head(10)"
   ]
  },
  {
   "cell_type": "code",
   "execution_count": 5,
   "id": "9f9fc167",
   "metadata": {
    "execution": {
     "iopub.execute_input": "2022-08-07T04:40:38.240117Z",
     "iopub.status.busy": "2022-08-07T04:40:38.239827Z",
     "iopub.status.idle": "2022-08-07T04:40:38.486452Z",
     "shell.execute_reply": "2022-08-07T04:40:38.485545Z"
    },
    "papermill": {
     "duration": 0.25609,
     "end_time": "2022-08-07T04:40:38.488455",
     "exception": false,
     "start_time": "2022-08-07T04:40:38.232365",
     "status": "completed"
    },
    "tags": []
   },
   "outputs": [
    {
     "name": "stdout",
     "output_type": "stream",
     "text": [
      "clothes/clothes3960.jpg\n"
     ]
    },
    {
     "data": {
      "text/plain": [
       "<matplotlib.image.AxesImage at 0x7f0efb2a7fd0>"
      ]
     },
     "execution_count": 5,
     "metadata": {},
     "output_type": "execute_result"
    },
    {
     "data": {
      "image/png": "[encoded data removed]",
      "text/plain": [
       "<Figure size 432x288 with 1 Axes>"
      ]
     },
     "metadata": {
      "needs_background": "light"
     },
     "output_type": "display_data"
    }
   ],
   "source": [
    "# see sample image, you can run the same cell again to get a different image\n",
    "random_row = random.randint(0, len(df)-1)\n",
    "sample = df.iloc[random_row]\n",
    "randomimage = image.load_img(base_path +sample['filename'])\n",
    "print(sample['filename'])\n",
    "plt.imshow(randomimage)"
   ]
  },
  {
   "cell_type": "markdown",
   "id": "8cfac05e",
   "metadata": {
    "papermill": {
     "duration": 0.007471,
     "end_time": "2022-08-07T04:40:38.503589",
     "exception": false,
     "start_time": "2022-08-07T04:40:38.496118",
     "status": "completed"
    },
    "tags": []
   },
   "source": [
    "# Viusalize the Categories Distribution"
   ]
  },
  {
   "cell_type": "code",
   "execution_count": 6,
   "id": "fe2e82af",
   "metadata": {
    "execution": {
     "iopub.execute_input": "2022-08-07T04:40:38.520328Z",
     "iopub.status.busy": "2022-08-07T04:40:38.519692Z",
     "iopub.status.idle": "2022-08-07T04:40:38.743061Z",
     "shell.execute_reply": "2022-08-07T04:40:38.742139Z"
    },
    "papermill": {
     "duration": 0.233644,
     "end_time": "2022-08-07T04:40:38.745052",
     "exception": false,
     "start_time": "2022-08-07T04:40:38.511408",
     "status": "completed"
    },
    "tags": []
   },
   "outputs": [
    {
     "data": {
      "image/png": "[encoded data removed]",
      "text/plain": [
       "<Figure size 432x288 with 1 Axes>"
      ]
     },
     "metadata": {
      "needs_background": "light"
     },
     "output_type": "display_data"
    }
   ],
   "source": [
    "df_visualization = df.copy()\n",
    "# Change the catgegories from numbers to names\n",
    "df_visualization['category'] = df_visualization['category'].apply(lambda x:categories[x] )\n",
    "\n",
    "df_visualization['category'].value_counts().plot.bar(x = 'count', y = 'category' )\n",
    "plt.style.use('seaborn-pastel')\n",
    "\n",
    "\n",
    "plt.xlabel(\"Garbage Classes\", labelpad=14)\n",
    "plt.ylabel(\"Images Count\", labelpad=14)\n",
    "plt.title(\"Count of Images Per Class\", y=1.02);"
   ]
  },
  {
   "cell_type": "markdown",
   "id": "5902cd0b",
   "metadata": {
    "papermill": {
     "duration": 0.007653,
     "end_time": "2022-08-07T04:40:38.760757",
     "exception": false,
     "start_time": "2022-08-07T04:40:38.753104",
     "status": "completed"
    },
    "tags": []
   },
   "source": [
    "# Create the model"
   ]
  },
  {
   "cell_type": "markdown",
   "id": "e0a5f15c",
   "metadata": {
    "papermill": {
     "duration": 0.007566,
     "end_time": "2022-08-07T04:40:38.775946",
     "exception": false,
     "start_time": "2022-08-07T04:40:38.768380",
     "status": "completed"
    },
    "tags": []
   },
   "source": [
    "The steps are:\n",
    "1. Create an xception model without the last layer and load the ImageNet pretrained weights\n",
    "2. Add a pre-processing layer\n",
    "3. Add a pooling layer followed by a softmax layer at the end"
   ]
  },
  {
   "cell_type": "code",
   "execution_count": 7,
   "id": "c9053d7a",
   "metadata": {
    "execution": {
     "iopub.execute_input": "2022-08-07T04:40:38.793837Z",
     "iopub.status.busy": "2022-08-07T04:40:38.792236Z",
     "iopub.status.idle": "2022-08-07T04:40:45.278588Z",
     "shell.execute_reply": "2022-08-07T04:40:45.277389Z"
    },
    "papermill": {
     "duration": 6.498142,
     "end_time": "2022-08-07T04:40:45.281639",
     "exception": false,
     "start_time": "2022-08-07T04:40:38.783497",
     "status": "completed"
    },
    "tags": []
   },
   "outputs": [
    {
     "name": "stderr",
     "output_type": "stream",
     "text": [
      "2022-08-07 04:40:38.902011: I tensorflow/stream_executor/cuda/cuda_gpu_executor.cc:937] successful NUMA node read from SysFS had negative value (-1), but there must be at least one NUMA node, so returning NUMA node zero\n",
      "2022-08-07 04:40:39.009998: I tensorflow/stream_executor/cuda/cuda_gpu_executor.cc:937] successful NUMA node read from SysFS had negative value (-1), but there must be at least one NUMA node, so returning NUMA node zero\n",
      "2022-08-07 04:40:39.010884: I tensorflow/stream_executor/cuda/cuda_gpu_executor.cc:937] successful NUMA node read from SysFS had negative value (-1), but there must be at least one NUMA node, so returning NUMA node zero\n",
      "2022-08-07 04:40:39.013070: I tensorflow/core/platform/cpu_feature_guard.cc:142] This TensorFlow binary is optimized with oneAPI Deep Neural Network Library (oneDNN) to use the following CPU instructions in performance-critical operations:  AVX2 AVX512F FMA\n",
      "To enable them in other operations, rebuild TensorFlow with the appropriate compiler flags.\n",
      "2022-08-07 04:40:39.013423: I tensorflow/stream_executor/cuda/cuda_gpu_executor.cc:937] successful NUMA node read from SysFS had negative value (-1), but there must be at least one NUMA node, so returning NUMA node zero\n",
      "2022-08-07 04:40:39.014442: I tensorflow/stream_executor/cuda/cuda_gpu_executor.cc:937] successful NUMA node read from SysFS had negative value (-1), but there must be at least one NUMA node, so returning NUMA node zero\n",
      "2022-08-07 04:40:39.015340: I tensorflow/stream_executor/cuda/cuda_gpu_executor.cc:937] successful NUMA node read from SysFS had negative value (-1), but there must be at least one NUMA node, so returning NUMA node zero\n",
      "2022-08-07 04:40:41.219950: I tensorflow/stream_executor/cuda/cuda_gpu_executor.cc:937] successful NUMA node read from SysFS had negative value (-1), but there must be at least one NUMA node, so returning NUMA node zero\n",
      "2022-08-07 04:40:41.220765: I tensorflow/stream_executor/cuda/cuda_gpu_executor.cc:937] successful NUMA node read from SysFS had negative value (-1), but there must be at least one NUMA node, so returning NUMA node zero\n",
      "2022-08-07 04:40:41.221479: I tensorflow/stream_executor/cuda/cuda_gpu_executor.cc:937] successful NUMA node read from SysFS had negative value (-1), but there must be at least one NUMA node, so returning NUMA node zero\n",
      "2022-08-07 04:40:41.222113: I tensorflow/core/common_runtime/gpu/gpu_device.cc:1510] Created device /job:localhost/replica:0/task:0/device:GPU:0 with 15403 MB memory:  -> device: 0, name: Tesla P100-PCIE-16GB, pci bus id: 0000:00:04.0, compute capability: 6.0\n"
     ]
    },
    {
     "name": "stdout",
     "output_type": "stream",
     "text": [
      "Model: \"sequential\"\n",
      "_________________________________________________________________\n",
      "Layer (type)                 Output Shape              Param #   \n",
      "=================================================================\n",
      "lambda (Lambda)              (None, 320, 320, 3)       0         \n",
      "_________________________________________________________________\n",
      "xception (Functional)        (None, 10, 10, 2048)      20861480  \n",
      "_________________________________________________________________\n",
      "global_average_pooling2d (Gl (None, 2048)              0         \n",
      "_________________________________________________________________\n",
      "dense (Dense)                (None, 10)                20490     \n",
      "=================================================================\n",
      "Total params: 20,881,970\n",
      "Trainable params: 20,490\n",
      "Non-trainable params: 20,861,480\n",
      "_________________________________________________________________\n"
     ]
    }
   ],
   "source": [
    "from keras.models import Sequential\n",
    "from keras.layers import Conv2D, MaxPooling2D, Dropout, Flatten, Dense, Activation, BatchNormalization\n",
    "import keras.applications.xception as xception\n",
    "\n",
    "xception_layer = xception.Xception(include_top = False, input_shape = (IMAGE_WIDTH, IMAGE_HEIGHT,IMAGE_CHANNELS),\n",
    "                       weights = '../input/xception/xception_weights_tf_dim_ordering_tf_kernels_notop.h5')\n",
    "\n",
    "# We don't want to train the imported weights\n",
    "xception_layer.trainable = False\n",
    "\n",
    "\n",
    "model = Sequential()\n",
    "model.add(keras.Input(shape=(IMAGE_WIDTH, IMAGE_HEIGHT, IMAGE_CHANNELS)))\n",
    "\n",
    "#create a custom layer to apply the preprocessing\n",
    "def xception_preprocessing(img):\n",
    "  return xception.preprocess_input(img)\n",
    "\n",
    "model.add(Lambda(xception_preprocessing))\n",
    "\n",
    "model.add(xception_layer)\n",
    "model.add(tf.keras.layers.GlobalAveragePooling2D())\n",
    "model.add(Dense(len(categories), activation='softmax')) \n",
    "\n",
    "model.compile(loss='categorical_crossentropy', optimizer='adam', metrics=['categorical_accuracy'])\n",
    "\n",
    "model.summary()"
   ]
  },
  {
   "cell_type": "markdown",
   "id": "058efb40",
   "metadata": {
    "papermill": {
     "duration": 0.008002,
     "end_time": "2022-08-07T04:40:45.298064",
     "exception": false,
     "start_time": "2022-08-07T04:40:45.290062",
     "status": "completed"
    },
    "tags": []
   },
   "source": [
    "We will use the EarlyStopping call back to stop our training if the validation_accuray is not improving for a certain number of epochs."
   ]
  },
  {
   "cell_type": "code",
   "execution_count": 8,
   "id": "f40c5f53",
   "metadata": {
    "execution": {
     "iopub.execute_input": "2022-08-07T04:40:45.315886Z",
     "iopub.status.busy": "2022-08-07T04:40:45.315069Z",
     "iopub.status.idle": "2022-08-07T04:40:45.320944Z",
     "shell.execute_reply": "2022-08-07T04:40:45.319907Z"
    },
    "papermill": {
     "duration": 0.017966,
     "end_time": "2022-08-07T04:40:45.324214",
     "exception": false,
     "start_time": "2022-08-07T04:40:45.306248",
     "status": "completed"
    },
    "tags": []
   },
   "outputs": [
    {
     "name": "stdout",
     "output_type": "stream",
     "text": [
      "call back defined!\n"
     ]
    }
   ],
   "source": [
    "early_stop = EarlyStopping(patience = 2, verbose = 1, monitor='val_categorical_accuracy' , mode='max', min_delta=0.001, restore_best_weights = True)\n",
    "\n",
    "callbacks = [early_stop]\n",
    "\n",
    "print('call back defined!')"
   ]
  },
  {
   "cell_type": "markdown",
   "id": "31de2fc7",
   "metadata": {
    "papermill": {
     "duration": 0.007615,
     "end_time": "2022-08-07T04:40:45.340770",
     "exception": false,
     "start_time": "2022-08-07T04:40:45.333155",
     "status": "completed"
    },
    "tags": []
   },
   "source": [
    "# Split the Data Set"
   ]
  },
  {
   "cell_type": "markdown",
   "id": "9388eeb2",
   "metadata": {
    "papermill": {
     "duration": 0.007933,
     "end_time": "2022-08-07T04:40:45.356565",
     "exception": false,
     "start_time": "2022-08-07T04:40:45.348632",
     "status": "completed"
    },
    "tags": []
   },
   "source": [
    "We split the training set into three separate sets:\n",
    "\n",
    "1. **The training set:** used to train our model.\n",
    "1. **The validation set**: used to double check that our model is not overfitting the training set, i.e. it can also generalise to other data other than the train data\n",
    "1. **The Test set:** Used to estimate the accuracy of the model on new data other than the ones the model used for training\n",
    "For a competition  or for some other cases, you can split the data only to training and validation sets in order to achieve the highest  possible accuracy, without the need to properly estimate how accurate the model really is.\n",
    "\n",
    "We split the data set as follows: 80% train set, 10% cross_validation set, and 10% test set"
   ]
  },
  {
   "cell_type": "code",
   "execution_count": 9,
   "id": "a617bfa5",
   "metadata": {
    "execution": {
     "iopub.execute_input": "2022-08-07T04:40:45.374421Z",
     "iopub.status.busy": "2022-08-07T04:40:45.374133Z",
     "iopub.status.idle": "2022-08-07T04:40:45.389168Z",
     "shell.execute_reply": "2022-08-07T04:40:45.387922Z"
    },
    "papermill": {
     "duration": 0.026516,
     "end_time": "2022-08-07T04:40:45.391525",
     "exception": false,
     "start_time": "2022-08-07T04:40:45.365009",
     "status": "completed"
    },
    "tags": []
   },
   "outputs": [
    {
     "name": "stdout",
     "output_type": "stream",
     "text": [
      "train size =  1451 validate size =  1451 test size =  1452\n"
     ]
    }
   ],
   "source": [
    "#Change the categories from numbers to names\n",
    "df[\"category\"] = df[\"category\"].replace(categories) \n",
    "\n",
    "# We first split the data into two sets and then split the validate_df to two sets\n",
    "train_df, validate_df = train_test_split(df, test_size=0.2, random_state=42)\n",
    "validate_df, test_df = train_test_split(validate_df, test_size=0.5, random_state=42)\n",
    "\n",
    "train_df = train_df.reset_index(drop=True)\n",
    "validate_df = validate_df.reset_index(drop=True)\n",
    "test_df = test_df.reset_index(drop=True)\n",
    "\n",
    "total_train = train_df.shape[0]\n",
    "total_validate = validate_df.shape[0]\n",
    "\n",
    "print('train size = ', total_validate , 'validate size = ', total_validate, 'test size = ', test_df.shape[0])"
   ]
  },
  {
   "cell_type": "code",
   "execution_count": 10,
   "id": "7f722374",
   "metadata": {
    "execution": {
     "iopub.execute_input": "2022-08-07T04:40:45.408803Z",
     "iopub.status.busy": "2022-08-07T04:40:45.408534Z",
     "iopub.status.idle": "2022-08-07T04:40:45.418472Z",
     "shell.execute_reply": "2022-08-07T04:40:45.417441Z"
    },
    "papermill": {
     "duration": 0.021759,
     "end_time": "2022-08-07T04:40:45.421582",
     "exception": false,
     "start_time": "2022-08-07T04:40:45.399823",
     "status": "completed"
    },
    "tags": []
   },
   "outputs": [
    {
     "data": {
      "text/html": [
       "<div>\n",
       "<style scoped>\n",
       "    .dataframe tbody tr th:only-of-type {\n",
       "        vertical-align: middle;\n",
       "    }\n",
       "\n",
       "    .dataframe tbody tr th {\n",
       "        vertical-align: top;\n",
       "    }\n",
       "\n",
       "    .dataframe thead th {\n",
       "        text-align: right;\n",
       "    }\n",
       "</style>\n",
       "<table border=\"1\" class=\"dataframe\">\n",
       "  <thead>\n",
       "    <tr style=\"text-align: right;\">\n",
       "      <th></th>\n",
       "      <th>filename</th>\n",
       "      <th>category</th>\n",
       "    </tr>\n",
       "  </thead>\n",
       "  <tbody>\n",
       "    <tr>\n",
       "      <th>0</th>\n",
       "      <td>battery/battery825.jpg</td>\n",
       "      <td>battery</td>\n",
       "    </tr>\n",
       "    <tr>\n",
       "      <th>1</th>\n",
       "      <td>shoes/shoes1706.jpg</td>\n",
       "      <td>shoes</td>\n",
       "    </tr>\n",
       "    <tr>\n",
       "      <th>2</th>\n",
       "      <td>clothes/clothes3807.jpg</td>\n",
       "      <td>clothes</td>\n",
       "    </tr>\n",
       "    <tr>\n",
       "      <th>3</th>\n",
       "      <td>metal/metal181.jpg</td>\n",
       "      <td>metal</td>\n",
       "    </tr>\n",
       "    <tr>\n",
       "      <th>4</th>\n",
       "      <td>shoes/shoes693.jpg</td>\n",
       "      <td>shoes</td>\n",
       "    </tr>\n",
       "    <tr>\n",
       "      <th>5</th>\n",
       "      <td>glass/glass1374.jpg</td>\n",
       "      <td>glass</td>\n",
       "    </tr>\n",
       "    <tr>\n",
       "      <th>6</th>\n",
       "      <td>cardboard/cardboard809.jpg</td>\n",
       "      <td>cardboard</td>\n",
       "    </tr>\n",
       "    <tr>\n",
       "      <th>7</th>\n",
       "      <td>metal/metal768.jpg</td>\n",
       "      <td>metal</td>\n",
       "    </tr>\n",
       "    <tr>\n",
       "      <th>8</th>\n",
       "      <td>clothes/clothes4783.jpg</td>\n",
       "      <td>clothes</td>\n",
       "    </tr>\n",
       "    <tr>\n",
       "      <th>9</th>\n",
       "      <td>paper/paper810.jpg</td>\n",
       "      <td>paper</td>\n",
       "    </tr>\n",
       "    <tr>\n",
       "      <th>10</th>\n",
       "      <td>clothes/clothes523.jpg</td>\n",
       "      <td>clothes</td>\n",
       "    </tr>\n",
       "    <tr>\n",
       "      <th>11</th>\n",
       "      <td>cardboard/cardboard102.jpg</td>\n",
       "      <td>cardboard</td>\n",
       "    </tr>\n",
       "    <tr>\n",
       "      <th>12</th>\n",
       "      <td>glass/glass1028.jpg</td>\n",
       "      <td>glass</td>\n",
       "    </tr>\n",
       "    <tr>\n",
       "      <th>13</th>\n",
       "      <td>shoes/shoes1304.jpg</td>\n",
       "      <td>shoes</td>\n",
       "    </tr>\n",
       "    <tr>\n",
       "      <th>14</th>\n",
       "      <td>medical/medical262.jpg</td>\n",
       "      <td>medical</td>\n",
       "    </tr>\n",
       "    <tr>\n",
       "      <th>15</th>\n",
       "      <td>clothes/clothes2100.jpg</td>\n",
       "      <td>clothes</td>\n",
       "    </tr>\n",
       "    <tr>\n",
       "      <th>16</th>\n",
       "      <td>shoes/shoes1172.jpg</td>\n",
       "      <td>shoes</td>\n",
       "    </tr>\n",
       "    <tr>\n",
       "      <th>17</th>\n",
       "      <td>clothes/clothes1321.jpg</td>\n",
       "      <td>clothes</td>\n",
       "    </tr>\n",
       "    <tr>\n",
       "      <th>18</th>\n",
       "      <td>clothes/clothes1444.jpg</td>\n",
       "      <td>clothes</td>\n",
       "    </tr>\n",
       "    <tr>\n",
       "      <th>19</th>\n",
       "      <td>paper/paper498.jpg</td>\n",
       "      <td>paper</td>\n",
       "    </tr>\n",
       "  </tbody>\n",
       "</table>\n",
       "</div>"
      ],
      "text/plain": [
       "                      filename   category\n",
       "0       battery/battery825.jpg    battery\n",
       "1          shoes/shoes1706.jpg      shoes\n",
       "2      clothes/clothes3807.jpg    clothes\n",
       "3           metal/metal181.jpg      metal\n",
       "4           shoes/shoes693.jpg      shoes\n",
       "5          glass/glass1374.jpg      glass\n",
       "6   cardboard/cardboard809.jpg  cardboard\n",
       "7           metal/metal768.jpg      metal\n",
       "8      clothes/clothes4783.jpg    clothes\n",
       "9           paper/paper810.jpg      paper\n",
       "10      clothes/clothes523.jpg    clothes\n",
       "11  cardboard/cardboard102.jpg  cardboard\n",
       "12         glass/glass1028.jpg      glass\n",
       "13         shoes/shoes1304.jpg      shoes\n",
       "14      medical/medical262.jpg    medical\n",
       "15     clothes/clothes2100.jpg    clothes\n",
       "16         shoes/shoes1172.jpg      shoes\n",
       "17     clothes/clothes1321.jpg    clothes\n",
       "18     clothes/clothes1444.jpg    clothes\n",
       "19          paper/paper498.jpg      paper"
      ]
     },
     "execution_count": 10,
     "metadata": {},
     "output_type": "execute_result"
    }
   ],
   "source": [
    "train_df.head(20)"
   ]
  },
  {
   "cell_type": "markdown",
   "id": "8fe6c324",
   "metadata": {
    "papermill": {
     "duration": 0.008409,
     "end_time": "2022-08-07T04:40:45.438350",
     "exception": false,
     "start_time": "2022-08-07T04:40:45.429941",
     "status": "completed"
    },
    "tags": []
   },
   "source": [
    "# Train the model"
   ]
  },
  {
   "cell_type": "markdown",
   "id": "017e0583",
   "metadata": {
    "papermill": {
     "duration": 0.008048,
     "end_time": "2022-08-07T04:40:45.454521",
     "exception": false,
     "start_time": "2022-08-07T04:40:45.446473",
     "status": "completed"
    },
    "tags": []
   },
   "source": [
    "We will first create the training data generator, that will get the images from the input data directory to train on them. We will also create a generator for the validation set.\n",
    "\n",
    "Applying Data Augmentation on the training set was taking too long to be executed and the initial results didn't show much improvement than the results without augmentation, so I commented the augmentation to make the training faster. However fell free to uncomment the Data Augmentation lines in the following cell and play a bit with it."
   ]
  },
  {
   "cell_type": "code",
   "execution_count": 11,
   "id": "7725e559",
   "metadata": {
    "execution": {
     "iopub.execute_input": "2022-08-07T04:40:45.472748Z",
     "iopub.status.busy": "2022-08-07T04:40:45.472480Z",
     "iopub.status.idle": "2022-08-07T04:40:53.047087Z",
     "shell.execute_reply": "2022-08-07T04:40:53.045922Z"
    },
    "papermill": {
     "duration": 7.586824,
     "end_time": "2022-08-07T04:40:53.049761",
     "exception": false,
     "start_time": "2022-08-07T04:40:45.462937",
     "status": "completed"
    },
    "tags": []
   },
   "outputs": [
    {
     "name": "stdout",
     "output_type": "stream",
     "text": [
      "Found 11608 validated image filenames belonging to 10 classes.\n"
     ]
    }
   ],
   "source": [
    "batch_size=128\n",
    "\n",
    "train_datagen = image.ImageDataGenerator(\n",
    "    \n",
    "    ###  Augmentation Start  ###\n",
    "    \n",
    "    #rotation_range=30,\n",
    "    #shear_range=0.1,\n",
    "    #zoom_range=0.3,\n",
    "    #horizontal_flip=True,\n",
    "    #vertical_flip = True,\n",
    "    #width_shift_range=0.2,\n",
    "    #height_shift_range=0.2\n",
    "    \n",
    "    ##  Augmentation End  ###\n",
    ")\n",
    "\n",
    "train_generator = train_datagen.flow_from_dataframe(\n",
    "    train_df, \n",
    "    base_path, \n",
    "    x_col='filename',\n",
    "    y_col='category',\n",
    "    target_size=IMAGE_SIZE,\n",
    "    class_mode='categorical',\n",
    "    batch_size=batch_size\n",
    ")"
   ]
  },
  {
   "cell_type": "code",
   "execution_count": 12,
   "id": "a7bbb5a3",
   "metadata": {
    "execution": {
     "iopub.execute_input": "2022-08-07T04:40:53.070148Z",
     "iopub.status.busy": "2022-08-07T04:40:53.069220Z",
     "iopub.status.idle": "2022-08-07T04:40:53.971382Z",
     "shell.execute_reply": "2022-08-07T04:40:53.970224Z"
    },
    "papermill": {
     "duration": 0.914987,
     "end_time": "2022-08-07T04:40:53.974171",
     "exception": false,
     "start_time": "2022-08-07T04:40:53.059184",
     "status": "completed"
    },
    "tags": []
   },
   "outputs": [
    {
     "name": "stdout",
     "output_type": "stream",
     "text": [
      "Found 1451 validated image filenames belonging to 10 classes.\n"
     ]
    }
   ],
   "source": [
    "validation_datagen = image.ImageDataGenerator()\n",
    "\n",
    "validation_generator = validation_datagen.flow_from_dataframe(\n",
    "    validate_df, \n",
    "    base_path, \n",
    "    x_col='filename',\n",
    "    y_col='category',\n",
    "    target_size=IMAGE_SIZE,\n",
    "    class_mode='categorical',\n",
    "    batch_size=batch_size\n",
    ")"
   ]
  },
  {
   "cell_type": "code",
   "execution_count": 13,
   "id": "cd5782ce",
   "metadata": {
    "execution": {
     "iopub.execute_input": "2022-08-07T04:40:53.993728Z",
     "iopub.status.busy": "2022-08-07T04:40:53.993435Z",
     "iopub.status.idle": "2022-08-07T04:54:30.985517Z",
     "shell.execute_reply": "2022-08-07T04:54:30.984474Z"
    },
    "papermill": {
     "duration": 817.00438,
     "end_time": "2022-08-07T04:54:30.987833",
     "exception": false,
     "start_time": "2022-08-07T04:40:53.983453",
     "status": "completed"
    },
    "tags": []
   },
   "outputs": [
    {
     "name": "stderr",
     "output_type": "stream",
     "text": [
      "/opt/conda/lib/python3.7/site-packages/keras/engine/training.py:1972: UserWarning: `Model.fit_generator` is deprecated and will be removed in a future version. Please use `Model.fit`, which supports generators.\n",
      "  warnings.warn('`Model.fit_generator` is deprecated and '\n",
      "2022-08-07 04:40:55.387906: I tensorflow/compiler/mlir/mlir_graph_optimization_pass.cc:185] None of the MLIR Optimization Passes are enabled (registered 2)\n"
     ]
    },
    {
     "name": "stdout",
     "output_type": "stream",
     "text": [
      "Epoch 1/20\n"
     ]
    },
    {
     "name": "stderr",
     "output_type": "stream",
     "text": [
      "2022-08-07 04:40:59.777981: I tensorflow/stream_executor/cuda/cuda_dnn.cc:369] Loaded cuDNN version 8005\n"
     ]
    },
    {
     "name": "stdout",
     "output_type": "stream",
     "text": [
      "90/90 [==============================] - 135s 1s/step - loss: 0.7205 - categorical_accuracy: 0.8096 - val_loss: 0.2951 - val_categorical_accuracy: 0.9368\n",
      "Epoch 2/20\n",
      "90/90 [==============================] - 84s 934ms/step - loss: 0.2519 - categorical_accuracy: 0.9384 - val_loss: 0.2028 - val_categorical_accuracy: 0.9496\n",
      "Epoch 3/20\n",
      "90/90 [==============================] - 85s 935ms/step - loss: 0.1932 - categorical_accuracy: 0.9507 - val_loss: 0.1746 - val_categorical_accuracy: 0.9510\n",
      "Epoch 4/20\n",
      "90/90 [==============================] - 85s 938ms/step - loss: 0.1641 - categorical_accuracy: 0.9567 - val_loss: 0.1569 - val_categorical_accuracy: 0.9524\n",
      "Epoch 5/20\n",
      "90/90 [==============================] - 85s 936ms/step - loss: 0.1436 - categorical_accuracy: 0.9625 - val_loss: 0.1428 - val_categorical_accuracy: 0.9567\n",
      "Epoch 6/20\n",
      "90/90 [==============================] - 84s 935ms/step - loss: 0.1297 - categorical_accuracy: 0.9647 - val_loss: 0.1364 - val_categorical_accuracy: 0.9574\n",
      "Epoch 7/20\n",
      "90/90 [==============================] - 85s 939ms/step - loss: 0.1179 - categorical_accuracy: 0.9686 - val_loss: 0.1315 - val_categorical_accuracy: 0.9574\n",
      "Restoring model weights from the end of the best epoch.\n",
      "Epoch 00007: early stopping\n"
     ]
    }
   ],
   "source": [
    "EPOCHS = 20\n",
    "history = model.fit_generator(\n",
    "    train_generator, \n",
    "    epochs=EPOCHS,\n",
    "    validation_data=validation_generator,\n",
    "    validation_steps=total_validate//batch_size,\n",
    "    steps_per_epoch=total_train//batch_size,\n",
    "    callbacks=callbacks\n",
    ")"
   ]
  },
  {
   "cell_type": "code",
   "execution_count": 14,
   "id": "b1dfd230",
   "metadata": {
    "execution": {
     "iopub.execute_input": "2022-08-07T04:54:31.071911Z",
     "iopub.status.busy": "2022-08-07T04:54:31.071530Z",
     "iopub.status.idle": "2022-08-07T04:54:31.333725Z",
     "shell.execute_reply": "2022-08-07T04:54:31.332674Z"
    },
    "papermill": {
     "duration": 0.306669,
     "end_time": "2022-08-07T04:54:31.336299",
     "exception": false,
     "start_time": "2022-08-07T04:54:31.029630",
     "status": "completed"
    },
    "tags": []
   },
   "outputs": [],
   "source": [
    "model.save_weights(\"model007.h5\")"
   ]
  },
  {
   "cell_type": "code",
   "execution_count": 15,
   "id": "dfe40e3e",
   "metadata": {
    "execution": {
     "iopub.execute_input": "2022-08-07T04:54:31.422832Z",
     "iopub.status.busy": "2022-08-07T04:54:31.421077Z",
     "iopub.status.idle": "2022-08-07T04:54:31.729357Z",
     "shell.execute_reply": "2022-08-07T04:54:31.728280Z"
    },
    "papermill": {
     "duration": 0.354015,
     "end_time": "2022-08-07T04:54:31.731995",
     "exception": false,
     "start_time": "2022-08-07T04:54:31.377980",
     "status": "completed"
    },
    "tags": []
   },
   "outputs": [
    {
     "name": "stderr",
     "output_type": "stream",
     "text": [
      "/opt/conda/lib/python3.7/site-packages/keras/utils/generic_utils.py:497: CustomMaskWarning: Custom mask layers require a config and must override get_config. When loading, the custom mask layer must be passed to the custom_objects argument.\n",
      "  category=CustomMaskWarning)\n"
     ]
    }
   ],
   "source": [
    "model.save(\"model804.h5\")"
   ]
  },
  {
   "cell_type": "markdown",
   "id": "79524df3",
   "metadata": {
    "papermill": {
     "duration": 0.040378,
     "end_time": "2022-08-07T04:54:31.815947",
     "exception": false,
     "start_time": "2022-08-07T04:54:31.775569",
     "status": "completed"
    },
    "tags": []
   },
   "source": [
    "# Visualize the training process\n"
   ]
  },
  {
   "cell_type": "code",
   "execution_count": 16,
   "id": "edd51693",
   "metadata": {
    "execution": {
     "iopub.execute_input": "2022-08-07T04:54:31.898204Z",
     "iopub.status.busy": "2022-08-07T04:54:31.897846Z",
     "iopub.status.idle": "2022-08-07T04:54:32.226756Z",
     "shell.execute_reply": "2022-08-07T04:54:32.225830Z"
    },
    "papermill": {
     "duration": 0.372391,
     "end_time": "2022-08-07T04:54:32.228969",
     "exception": false,
     "start_time": "2022-08-07T04:54:31.856578",
     "status": "completed"
    },
    "tags": []
   },
   "outputs": [
    {
     "data": {
      "image/png": "[encoded data removed]",
      "text/plain": [
       "<Figure size 432x288 with 2 Axes>"
      ]
     },
     "metadata": {
      "needs_background": "light"
     },
     "output_type": "display_data"
    }
   ],
   "source": [
    "fig, (ax1, ax2) = plt.subplots(2, 1)\n",
    "ax1.plot(history.history['loss'], color='b', label=\"Training loss\")\n",
    "ax1.plot(history.history['val_loss'], color='r', label=\"validation loss\")\n",
    "ax1.set_yticks(np.arange(0, 0.7, 0.1))\n",
    "ax1.legend()\n",
    "\n",
    "ax2.plot(history.history['categorical_accuracy'], color='b', label=\"Training accuracy\")\n",
    "ax2.plot(history.history['val_categorical_accuracy'], color='r',label=\"Validation accuracy\")\n",
    "ax2.legend()\n",
    "\n",
    "legend = plt.legend(loc='best')\n",
    "plt.tight_layout()\n",
    "plt.show()"
   ]
  },
  {
   "cell_type": "markdown",
   "id": "270015a8",
   "metadata": {
    "papermill": {
     "duration": 0.040401,
     "end_time": "2022-08-07T04:54:32.311379",
     "exception": false,
     "start_time": "2022-08-07T04:54:32.270978",
     "status": "completed"
    },
    "tags": []
   },
   "source": [
    "# Evaluate the test"
   ]
  },
  {
   "cell_type": "markdown",
   "id": "31f80303",
   "metadata": {
    "papermill": {
     "duration": 0.040984,
     "end_time": "2022-08-07T04:54:32.393395",
     "exception": false,
     "start_time": "2022-08-07T04:54:32.352411",
     "status": "completed"
    },
    "tags": []
   },
   "source": [
    "To evaluate the performance of our model we will create a test generator to load the images from the input data directory and evaluate the results."
   ]
  },
  {
   "cell_type": "code",
   "execution_count": 17,
   "id": "0381b967",
   "metadata": {
    "execution": {
     "iopub.execute_input": "2022-08-07T04:54:32.477042Z",
     "iopub.status.busy": "2022-08-07T04:54:32.476608Z",
     "iopub.status.idle": "2022-08-07T04:54:33.945211Z",
     "shell.execute_reply": "2022-08-07T04:54:33.943891Z"
    },
    "papermill": {
     "duration": 1.513751,
     "end_time": "2022-08-07T04:54:33.947466",
     "exception": false,
     "start_time": "2022-08-07T04:54:32.433715",
     "status": "completed"
    },
    "tags": []
   },
   "outputs": [
    {
     "name": "stdout",
     "output_type": "stream",
     "text": [
      "Found 1452 validated image filenames belonging to 10 classes.\n"
     ]
    }
   ],
   "source": [
    "test_datagen = image.ImageDataGenerator()\n",
    "\n",
    "test_generator = test_datagen.flow_from_dataframe(\n",
    "    dataframe= test_df,\n",
    "    directory=base_path,\n",
    "    x_col='filename',\n",
    "    y_col='category',\n",
    "    target_size=IMAGE_SIZE,\n",
    "    color_mode=\"rgb\",\n",
    "    class_mode=\"categorical\",\n",
    "    batch_size=1,\n",
    "    shuffle=False \n",
    ")"
   ]
  },
  {
   "cell_type": "code",
   "execution_count": 18,
   "id": "3d00a92c",
   "metadata": {
    "execution": {
     "iopub.execute_input": "2022-08-07T04:54:34.030595Z",
     "iopub.status.busy": "2022-08-07T04:54:34.030292Z",
     "iopub.status.idle": "2022-08-07T04:54:52.445801Z",
     "shell.execute_reply": "2022-08-07T04:54:52.444903Z"
    },
    "papermill": {
     "duration": 18.459244,
     "end_time": "2022-08-07T04:54:52.447963",
     "exception": false,
     "start_time": "2022-08-07T04:54:33.988719",
     "status": "completed"
    },
    "tags": []
   },
   "outputs": [
    {
     "name": "stderr",
     "output_type": "stream",
     "text": [
      "/opt/conda/lib/python3.7/site-packages/keras/engine/training.py:2006: UserWarning: `Model.evaluate_generator` is deprecated and will be removed in a future version. Please use `Model.evaluate`, which supports generators.\n",
      "  warnings.warn('`Model.evaluate_generator` is deprecated and '\n"
     ]
    },
    {
     "name": "stdout",
     "output_type": "stream",
     "text": [
      "Accuracy on Test Set =  94.7 % \n"
     ]
    }
   ],
   "source": [
    "filenames = test_generator.filenames\n",
    "nb_samples = len(filenames)\n",
    "\n",
    "_, accuracy = model.evaluate_generator(test_generator, nb_samples)\n",
    "\n",
    "print('Accuracy on Test Set = ',  round((accuracy * 100),2 ), '% ') "
   ]
  },
  {
   "cell_type": "code",
   "execution_count": 19,
   "id": "ccb85dbb",
   "metadata": {
    "execution": {
     "iopub.execute_input": "2022-08-07T04:54:52.532794Z",
     "iopub.status.busy": "2022-08-07T04:54:52.532437Z",
     "iopub.status.idle": "2022-08-07T04:54:52.538061Z",
     "shell.execute_reply": "2022-08-07T04:54:52.537082Z"
    },
    "papermill": {
     "duration": 0.051024,
     "end_time": "2022-08-07T04:54:52.540457",
     "exception": false,
     "start_time": "2022-08-07T04:54:52.489433",
     "status": "completed"
    },
    "tags": []
   },
   "outputs": [
    {
     "name": "stdout",
     "output_type": "stream",
     "text": [
      "{0: 'battery', 1: 'cardboard', 2: 'clothes', 3: 'food', 4: 'glass', 5: 'medical', 6: 'metal', 7: 'paper', 8: 'plastic', 9: 'shoes'}\n"
     ]
    }
   ],
   "source": [
    "# We defined at the beginning of this notebook a dictionary that maps the categories number to names, but the train generator\n",
    "# generated it's own dictionary and it has assigned different numbers to our categories and the predictions made by the model \n",
    "# will be made using the genrator's dictionary.\n",
    "\n",
    "gen_label_map = test_generator.class_indices\n",
    "gen_label_map = dict((v,k) for k,v in gen_label_map.items())\n",
    "print(gen_label_map)"
   ]
  },
  {
   "cell_type": "code",
   "execution_count": 20,
   "id": "d489fb18",
   "metadata": {
    "execution": {
     "iopub.execute_input": "2022-08-07T04:54:52.624422Z",
     "iopub.status.busy": "2022-08-07T04:54:52.624076Z",
     "iopub.status.idle": "2022-08-07T04:55:07.020103Z",
     "shell.execute_reply": "2022-08-07T04:55:07.018732Z"
    },
    "papermill": {
     "duration": 14.440849,
     "end_time": "2022-08-07T04:55:07.022680",
     "exception": false,
     "start_time": "2022-08-07T04:54:52.581831",
     "status": "completed"
    },
    "tags": []
   },
   "outputs": [
    {
     "name": "stderr",
     "output_type": "stream",
     "text": [
      "/opt/conda/lib/python3.7/site-packages/keras/engine/training.py:2035: UserWarning: `Model.predict_generator` is deprecated and will be removed in a future version. Please use `Model.predict`, which supports generators.\n",
      "  warnings.warn('`Model.predict_generator` is deprecated and '\n"
     ]
    },
    {
     "name": "stdout",
     "output_type": "stream",
     "text": [
      "              precision    recall  f1-score   support\n",
      "\n",
      "     battery       0.99      0.98      0.99       101\n",
      "   cardboard       0.93      0.93      0.93        84\n",
      "     clothes       0.99      0.99      0.99       536\n",
      "        food       0.98      0.99      0.98        99\n",
      "       glass       0.87      0.81      0.84        95\n",
      "     medical       0.93      0.94      0.94        69\n",
      "       metal       0.84      0.82      0.83        79\n",
      "       paper       0.87      0.90      0.89        90\n",
      "     plastic       0.82      0.86      0.84       104\n",
      "       shoes       0.98      0.98      0.98       195\n",
      "\n",
      "    accuracy                           0.95      1452\n",
      "   macro avg       0.92      0.92      0.92      1452\n",
      "weighted avg       0.95      0.95      0.95      1452\n",
      "\n"
     ]
    }
   ],
   "source": [
    "# get the model's predictions for the test set\n",
    "preds = model.predict_generator(test_generator, nb_samples)\n",
    "\n",
    "# Get the category with the highest predicted probability, the prediction is only the category's number and not name\n",
    "preds = preds.argmax(1)\n",
    "\n",
    "# Convert the predicted category's number to name \n",
    "preds = [gen_label_map[item] for item in preds]\n",
    "\n",
    "# Convert the pandas dataframe to a numpy matrix\n",
    "labels = test_df['category'].to_numpy()\n",
    "\n",
    "print(classification_report(labels, preds))"
   ]
  },
  {
   "cell_type": "code",
   "execution_count": null,
   "id": "e7f11bff",
   "metadata": {
    "papermill": {
     "duration": 0.373588,
     "end_time": "2022-08-07T04:55:07.439656",
     "exception": false,
     "start_time": "2022-08-07T04:55:07.066068",
     "status": "completed"
    },
    "tags": []
   },
   "outputs": [],
   "source": []
  }
 ],
 "metadata": {
  "kernelspec": {
   "display_name": "Python 3",
   "language": "python",
   "name": "python3"
  },
  "language_info": {
   "codemirror_mode": {
    "name": "ipython",
    "version": 3
   },
   "file_extension": ".py",
   "mimetype": "text/x-python",
   "name": "python",
   "nbconvert_exporter": "python",
   "pygments_lexer": "ipython3",
   "version": "3.7.12"
  },
  "papermill": {
   "default_parameters": {},
   "duration": 887.710906,
   "end_time": "2022-08-07T04:55:10.782018",
   "environment_variables": {},
   "exception": null,
   "input_path": "__notebook__.ipynb",
   "output_path": "__notebook__.ipynb",
   "parameters": {},
   "start_time": "2022-08-07T04:40:23.071112",
   "version": "2.3.4"
  }
 },
 "nbformat": 4,
 "nbformat_minor": 5
}
